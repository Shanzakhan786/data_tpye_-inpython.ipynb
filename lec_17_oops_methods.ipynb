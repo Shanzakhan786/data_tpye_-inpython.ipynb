{
 "cells": [
  {
   "cell_type": "markdown",
   "id": "8d9c263e",
   "metadata": {},
   "source": [
    "# **AWFERA : Python Course**\n",
    "\n",
    "# **Lecture No 17**\n",
    "\n",
    "# **Topic : Methods In OOPS**"
   ]
  },
  {
   "cell_type": "markdown",
   "id": "224caa79",
   "metadata": {},
   "source": [
    "# **What is Methods ?**"
   ]
  },
  {
   "cell_type": "markdown",
   "id": "a0468819",
   "metadata": {},
   "source": [
    "⚇ Methods are the functions defined by inside the class.\n",
    "\n",
    "⚇ They represent the actions that can be performed on an object of the class.\n",
    "\n",
    "⚇ Help organize the code and make it more readable.\n"
   ]
  },
  {
   "cell_type": "markdown",
   "id": "0c8bca1f",
   "metadata": {},
   "source": [
    "# **Types of Methods :**"
   ]
  },
  {
   "cell_type": "markdown",
   "id": "54b61f22",
   "metadata": {},
   "source": [
    "**there are three types of methods:**\n",
    "\n",
    "1️⃣ Instance Methods\n",
    "\n",
    "2️⃣ Class Methods\n",
    "\n",
    "3️⃣ Static Methods"
   ]
  },
  {
   "cell_type": "code",
   "execution_count": 3,
   "id": "07fb9db2",
   "metadata": {},
   "outputs": [
    {
     "name": "stdout",
     "output_type": "stream",
     "text": [
      "The color of the house is blue\n"
     ]
    }
   ],
   "source": [
    "class House:\n",
    "    def __init__(self, color):\n",
    "        self.color = color  #self color is refers to the paint color of  this specific house\n",
    "\n",
    "    def show_color(self):\n",
    "        print(f\"The color of the house is {self.color}\") #uses self.color to access the color of the house\n",
    "\n",
    "#Create an instance of the House \n",
    "my_house = House (\"blue\")\n",
    "my_house.show_color()  # This will print the color of the house "
   ]
  },
  {
   "cell_type": "markdown",
   "id": "5887c2f7",
   "metadata": {},
   "source": [
    "# 1.**Instance Methods :** = Methods Bound to an instance\n"
   ]
  },
  {
   "cell_type": "markdown",
   "id": "05051fd0",
   "metadata": {},
   "source": [
    "#### **What Are they ?**\n",
    "\n",
    "⏺️ Operate on indiviual Objects(instance)\n",
    "\n",
    "⏺️ first parameter is always is **Self** (Reference to the instance of the class)\n",
    "\n",
    "⏺️ Can Access or change the objects attributes\n",
    "\n",
    "⏺️ Calles using the object e.g **my_house.show_color()**"
   ]
  },
  {
   "cell_type": "code",
   "execution_count": 5,
   "id": "45fb30b6",
   "metadata": {},
   "outputs": [
    {
     "name": "stdout",
     "output_type": "stream",
     "text": [
      "This house is painted red\n"
     ]
    }
   ],
   "source": [
    "class House:\n",
    "    # Constructor method to initialize the color of the specific house\n",
    "    def __init__(self, color):\n",
    "        self.color = color  #Assign the color to the instance  house\n",
    "    # Instance Method to display the color of the house\n",
    "    def show_color(self):\n",
    "        print(f\"This house is painted {self.color}\") #Asscess and print the color of the house\n",
    "\n",
    "# Create an instance of the House class with the color \"red\"\n",
    "my_house = House(\"red\")\n",
    "\n",
    "# Call the instance method to display the color of the house\n",
    "my_house.show_color()  "
   ]
  },
  {
   "cell_type": "markdown",
   "id": "fd5a9560",
   "metadata": {},
   "source": [
    "#### **Mini-challenge : add an instance methods to calculate or modify object state**"
   ]
  },
  {
   "cell_type": "code",
   "execution_count": 7,
   "id": "9981c95b",
   "metadata": {},
   "outputs": [
    {
     "name": "stdout",
     "output_type": "stream",
     "text": [
      "78.5\n"
     ]
    }
   ],
   "source": [
    "class Circle:\n",
    "    def __init__(self , radius):\n",
    "        self.radius = radius  # self.radius refers to the radius of this specific circle\n",
    "    def area(self):\n",
    "        return 3.14 * (self.radius ** 2)\n",
    "\n",
    "circle = Circle(5)  # Create an instance of Circle with radius 5\n",
    "print(circle.area())  # This will print the area of the circle"
   ]
  },
  {
   "cell_type": "markdown",
   "id": "e1d65555",
   "metadata": {},
   "source": [
    "# 2. **Class Methods = Bound to the class . Not the object**"
   ]
  },
  {
   "cell_type": "markdown",
   "id": "c76a0764",
   "metadata": {},
   "source": [
    "**What Are they :**\n",
    "\n",
    "• Belong to the class not indiviual objects\n",
    "\n",
    "• First parameter is **cls** (reference to the class)\n",
    "\n",
    "• Use **@classmethod** decorator\n",
    "\n",
    "• Useful for factory methods and class wide actions"
   ]
  },
  {
   "cell_type": "code",
   "execution_count": 11,
   "id": "cc5d6127",
   "metadata": {},
   "outputs": [
    {
     "name": "stdout",
     "output_type": "stream",
     "text": [
      "24\n"
     ]
    }
   ],
   "source": [
    "class House:\n",
    "    def __init__(self, color, age):\n",
    "        self.color = color  # instance attribute for the color of the house\n",
    "        self.age = age      # instance attribute for how old the house is\n",
    "\n",
    "    @classmethod\n",
    "    def from_construction_year(cls, color, construction_year):\n",
    "        # this method creates a House object by calculating its age\n",
    "        return cls(color, 2024 - construction_year)\n",
    "\n",
    "# create a new house using the class method as a factory\n",
    "my_house = House.from_construction_year(\"white\", 2000)\n",
    "\n",
    "# Print the age of the house\n",
    "print(my_house.age)"
   ]
  },
  {
   "cell_type": "markdown",
   "id": "f73414cf",
   "metadata": {},
   "source": [
    "#### **Mini challenges : implement a class method that keep count of created instances**"
   ]
  },
  {
   "cell_type": "code",
   "execution_count": 13,
   "id": "82c12cb1",
   "metadata": {},
   "outputs": [
    {
     "name": "stdout",
     "output_type": "stream",
     "text": [
      "2\n"
     ]
    }
   ],
   "source": [
    "class Book:\n",
    "    #Class attribute to keep track of the number of book instances\n",
    "    count = 0\n",
    "\n",
    "    def __init__(self, title):\n",
    "        #Intance attribute for the title of the book\n",
    "        self.title = title\n",
    "        #increment the class level count whenever a new book instance is created\n",
    "        Book.count += 1\n",
    "    @classmethod\n",
    "    def get_count(cls):\n",
    "        #Class method to return the current count of book instances\n",
    "        return cls.count \n",
    "# Create a first  book instances\n",
    "book1 = Book(\"The Great Gatsby\")\n",
    "# Create a second book instance\n",
    "book2 = Book(\"To Kill a Mockingbird\")\n",
    "# Print the total number of book instances created\n",
    "print(Book.get_count())  # This will print 2, as two book instances have been created"
   ]
  },
  {
   "cell_type": "markdown",
   "id": "fe0a6d11",
   "metadata": {},
   "source": [
    "# **3. Static Methods :** =  Independent Utility Tools"
   ]
  },
  {
   "cell_type": "markdown",
   "id": "b0a68f75",
   "metadata": {},
   "source": [
    "**What Are they ?**\n",
    "\n",
    "⏺️ Do not access instance **(self)** or class **(cls)** data.\n",
    "\n",
    "⏺️ Behave like a regular function but grouped inside classes.\n",
    "\n",
    "⏺️ Use **@staticmethod** decorator.\n",
    "\n",
    "⏺️ Great for utility or validation functions"
   ]
  },
  {
   "cell_type": "code",
   "execution_count": 14,
   "id": "1dba0549",
   "metadata": {},
   "outputs": [
    {
     "name": "stdout",
     "output_type": "stream",
     "text": [
      "True\n",
      "False\n"
     ]
    }
   ],
   "source": [
    "class House:\n",
    "    def __init__(self, color , area):\n",
    "        self.color = color  # self.color refers to the paint color of this specific house\n",
    "        self.area = area    # self.area refers to the area of this specific house\n",
    "    \n",
    "    @staticmethod\n",
    "    def is_valid_area(area) :\n",
    "        # Static method to check if the area is a positive number\n",
    "        return area > 0\n",
    "    \n",
    "#Use the static method to check if a given area is valid befor creating a house\n",
    "print(House.is_valid_area(150))  # This will print True\n",
    "print(House.is_valid_area(-50))  # This will print False"
   ]
  },
  {
   "cell_type": "markdown",
   "id": "2ac84662",
   "metadata": {},
   "source": [
    "#### **Mini challenge : write a static menthod to validate input before object creation**"
   ]
  },
  {
   "cell_type": "code",
   "execution_count": 17,
   "id": "feaddfac",
   "metadata": {},
   "outputs": [
    {
     "name": "stdout",
     "output_type": "stream",
     "text": [
      "10 5\n"
     ]
    }
   ],
   "source": [
    "class Rectangle:\n",
    "    def __init__(self, width, height):\n",
    "        self.width = width  # self.width refers to the width of this specific rectangle\n",
    "        self.height = height  # self.height refers to the height of this specific rectangle\n",
    "\n",
    "    @staticmethod\n",
    "    def is_valid_dimension(dimension):\n",
    "        # Static method to check if the dimension is a positive number\n",
    "        return dimension > 0\n",
    "    \n",
    "    @classmethod\n",
    "    def create_rectangle(cls, width, height):\n",
    "        if Rectangle.is_valid_dimension(width) and Rectangle.is_valid_dimension(height):\n",
    "            return cls(width, height)\n",
    "        else:\n",
    "             raise ValueError(\"Width and height must be positive numbers\")\n",
    "# Create a rectangle instance using the class method\n",
    "rectangle = Rectangle.create_rectangle(10, 5)\n",
    "print(rectangle.width , rectangle.height)  # This will print 10"
   ]
  },
  {
   "cell_type": "markdown",
   "id": "a8253e1e",
   "metadata": {},
   "source": [
    "| Method Type     | Decorator      | First Parameter | Purpose                                  |\n",
    "|-----------------|---------------|-----------------|------------------------------------------|\n",
    "| Instance Method | *(none)*       | `self`          | Works with object’s data                 |\n",
    "| Class Method    | `@classmethod` | `cls`           | Works with class, often as a factory     |\n",
    "| Static Method   | `@staticmethod`| *(none)*        | Utility, does not access class or object |"
   ]
  },
  {
   "cell_type": "markdown",
   "metadata": {},
   "source": [
    "# **Story Driven Example :**"
   ]
  },
  {
   "cell_type": "code",
   "execution_count": 22,
   "id": "316cd67c",
   "metadata": {},
   "outputs": [
    {
     "name": "stdout",
     "output_type": "stream",
     "text": [
      "78.53975\n",
      "5.0\n",
      "True\n"
     ]
    }
   ],
   "source": [
    "class MathTool:\n",
    "    pi = 3.14159  # Class attribute for the value of pi\n",
    "\n",
    "    def __init__(self, radius):\n",
    "        self.radius = radius\n",
    "    #Instance method to calculate the area \n",
    "    def area(self):\n",
    "        return MathTool.pi * (self.radius ** 2)\n",
    "    \n",
    "    # Class method to create a MathTool instance with a given radius\n",
    "    @classmethod\n",
    "    def from_diameter(cls,diameter ):\n",
    "        return cls(diameter / 2)\n",
    "\n",
    "    #static method to check if a value is a valid radius\n",
    "    @staticmethod\n",
    "    def is_valid_radius(radius):\n",
    "        return radius > 0    \n",
    "\n",
    "#Example usage\n",
    "tool = MathTool(5)  # Create an instance with radius 5\n",
    "print(tool.area())  # This will print the area of the circle with radius 5\n",
    "\n",
    "# Create an instance using the class method\n",
    "tool_from_diameter = MathTool.from_diameter(10)  # This will create an instance with radius 5   \n",
    "print(tool_from_diameter.radius)  # This will also print the radius of the circle with radius 5\n",
    "\n",
    "# Check if a radius is valid using the static method\n",
    "print(MathTool.is_valid_radius(5))  # This will print True"
   ]
  },
  {
   "cell_type": "markdown",
   "id": "3548cc66",
   "metadata": {},
   "source": [
    "# **Differ b/w Function & Methods :**\n",
    "\n",
    "⏺️**Methods** : is written by inside the class.\n",
    "\n",
    "\n",
    "⏺️**Functions** : is written by outside of the Class."
   ]
  }
 ],
 "metadata": {
  "kernelspec": {
   "display_name": "awfera",
   "language": "python",
   "name": "python3"
  },
  "language_info": {
   "codemirror_mode": {
    "name": "ipython",
    "version": 3
   },
   "file_extension": ".py",
   "mimetype": "text/x-python",
   "name": "python",
   "nbconvert_exporter": "python",
   "pygments_lexer": "ipython3",
   "version": "3.10.16"
  }
 },
 "nbformat": 4,
 "nbformat_minor": 5
}
