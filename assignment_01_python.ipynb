{
 "cells": [
  {
   "cell_type": "markdown",
   "metadata": {},
   "source": [
    "# Question 1: Code Along\n",
    "\n",
    "Problem: Write a Python program that takes a string as input and prints out the \n",
    "following: \n",
    "\n",
    "1. The string in reverse order. \n",
    "\n",
    "2. The number of vowels in the string. \n",
    "\n",
    "**Instructions:**\n",
    "\n",
    "● Use basic string manipulation techniques such as loops, conditionals, and \n",
    "string methods. \n",
    "\n",
    "● Ensure that the program counts both uppercase and lowercase vowels (a, e, \n",
    "i, o, u). \n"
   ]
  },
  {
   "cell_type": "code",
   "execution_count": null,
   "metadata": {},
   "outputs": [
    {
     "name": "stdout",
     "output_type": "stream",
     "text": [
      "Reversed string: nahk\n",
      "Number of vowels: 1\n"
     ]
    }
   ],
   "source": [
    "# Taking user input\n",
    "user_string = input(\"Enter a string: \").strip()\n",
    "\n",
    "if not user_string:  # Check for empty input\n",
    "    print(\"Error: Please enter a valid string.\")\n",
    "else:\n",
    "    # Reversing the string\n",
    "    reversed_string = user_string[::-1]\n",
    "\n",
    "    # Counting vowels\n",
    "    vowels = \"aeiouAEIOU\"\n",
    "    vowel_count = sum(1 for char in user_string if char in vowels)\n",
    "\n",
    "    # Displaying results\n",
    "    print(\"Reversed string:\", reversed_string)\n",
    "    print(\"Number of vowels:\", vowel_count)"
   ]
  },
  {
   "cell_type": "code",
   "execution_count": null,
   "metadata": {},
   "outputs": [],
   "source": []
  },
  {
   "cell_type": "markdown",
   "metadata": {},
   "source": [
    "# Question 2: Hands-on Coding Project  \n",
    "\n",
    "Problem: Create a Python program that: \n",
    "\n",
    "● Takes an input number from the user. \n",
    "\n",
    "● Checks whether the number is even or odd. \n",
    "\n",
    "● Prints the result. \n",
    "\n",
    "**Instructions:**\n",
    "\n",
    "● Write a Python script that accepts a number from the user, determines \n",
    "whether it is even or odd, and prints the result. \n",
    "\n",
    "● Use conditionals to check if the number is even or odd. \n",
    "\n",
    "**Example Input:** \n",
    "\n",
    "**Enter a number: 5** \n",
    "\n",
    "**Example Output:**\n",
    "\n",
    "The number 5 is Odd. "
   ]
  },
  {
   "cell_type": "code",
   "execution_count": null,
   "metadata": {},
   "outputs": [
    {
     "name": "stdout",
     "output_type": "stream",
     "text": [
      "The number 60 is Even.\n"
     ]
    }
   ],
   "source": [
    "# Taking user input\n",
    "num = int(input(\"Enter a number: \"))\n",
    "\n",
    "# Checking even or odd\n",
    "if num % 2 == 0:\n",
    "    print(f\"The number {num} is Even.\")\n",
    "else:\n",
    "    print(f\"The number {num} is Odd.\")"
   ]
  },
  {
   "cell_type": "markdown",
   "metadata": {},
   "source": [
    "# Question 3: Virtual Environment Application  \n",
    "\n",
    "Problem: Create a Python program that: \n",
    "\n",
    "1. Takes a list of integers as input. \n",
    "\n",
    "2. Creates a new virtual environment called sortenv. \n",
    "   \n",
    "3. Installs a package (such as numpy) in the virtual environment. \n",
    "4. Sorts the list using a numpy method (numpy.sort()). \n",
    "   \n",
    "5. Prints the sorted list. \n",
    "\n",
    "Instructions: \n",
    "\n",
    "● You will not be expected to actually run the environment creation commands \n",
    "but rather simulate wh"
   ]
  },
  {
   "cell_type": "markdown",
   "metadata": {},
   "source": [
    " ## Example Input: \n",
    "\n",
    "Enter a list of numbers: [4, 2, 7, 1, 3] \n",
    "\n",
    "Example Output: \n",
    "\n",
    "Sorted list: [1, 2, 3, 4, 7] "
   ]
  },
  {
   "cell_type": "code",
   "execution_count": 24,
   "metadata": {},
   "outputs": [
    {
     "name": "stdout",
     "output_type": "stream",
     "text": [
      "Sorted list: [12, 15, 20]\n"
     ]
    }
   ],
   "source": [
    "# Simulating virtual environment creation and package installation (as comments)\n",
    "\"\"\"\n",
    "Steps:\n",
    "1. Create a virtual environment: python -m venv sortenv\n",
    "2. Activate it: (Windows) sortenv\\Scripts\\activate  |  (Mac/Linux) source sortenv/bin/activate\n",
    "3. Install NumPy: pip install numpy\n",
    "\"\"\"\n",
    "\n",
    "import numpy as np\n",
    "\n",
    "try:\n",
    "    # Taking a list input from the user\n",
    "    user_input = input(\"Enter a list of numbers separated by spaces: \")\n",
    "    num_list = list(map(int, user_input.split()))  # Convert input to list of integers\n",
    "\n",
    "    # Sorting the list using numpy\n",
    "    sorted_list = np.sort(num_list)\n",
    "\n",
    "    # Displaying the sorted list\n",
    "    print(\"Sorted list:\", sorted_list.tolist())\n",
    "\n",
    "except ValueError:\n",
    "    print(\"Error: Please enter valid integers separated by spaces.\")\n"
   ]
  }
 ],
 "metadata": {
  "kernelspec": {
   "display_name": "sortenv",
   "language": "python",
   "name": "python3"
  },
  "language_info": {
   "codemirror_mode": {
    "name": "ipython",
    "version": 3
   },
   "file_extension": ".py",
   "mimetype": "text/x-python",
   "name": "python",
   "nbconvert_exporter": "python",
   "pygments_lexer": "ipython3",
   "version": "3.10.16"
  }
 },
 "nbformat": 4,
 "nbformat_minor": 2
}
