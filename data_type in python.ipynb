{
 "cells": [
  {
   "cell_type": "markdown",
   "metadata": {},
   "source": [
    "# Practices for Lectures (04 +05) Variable and data types\n",
    "**video part 2: handling  single values or variable**"
   ]
  },
  {
   "cell_type": "markdown",
   "metadata": {},
   "source": [
    "## 1.Integer value:"
   ]
  },
  {
   "cell_type": "code",
   "execution_count": null,
   "metadata": {},
   "outputs": [
    {
     "name": "stdout",
     "output_type": "stream",
     "text": [
      "num1 =  10 <class 'int'>\n",
      "num2 =  -7 <class 'int'>\n",
      "num3 =  0 <class 'int'>\n"
     ]
    }
   ],
   "source": [
    "#Examle of integer value using 10,-7 , 0\n",
    "num1 = 10\n",
    "num2 = -7\n",
    "num3 = 0\n",
    "\n",
    "print(\"num1 = \", num1,type(num1)) #type() function returns the type of the object\n",
    "print(\"num2 = \", num2,type(num2))\n",
    "print(\"num3 = \", num3,type(num3))\n"
   ]
  },
  {
   "cell_type": "markdown",
   "metadata": {},
   "source": [
    "# 2.Floats Numbers \n",
    "\n",
    " using examples : 3.14159, -0.001 , 1.5e2 = (which is equal to 150.0)"
   ]
  },
  {
   "cell_type": "code",
   "execution_count": 3,
   "metadata": {},
   "outputs": [
    {
     "name": "stdout",
     "output_type": "stream",
     "text": [
      "pi =  0.14159 <class 'float'>\n",
      "small_float =  -0.001 <class 'float'>\n",
      "exp_float =  150.0 <class 'float'>\n",
      "complex_num1 =  (3+4j) <class 'complex'>\n",
      "complex_num2 =  (-2-3j) <class 'complex'>\n"
     ]
    }
   ],
   "source": [
    "#Example of float value using 0.14159 , -0.001 , 1.5e2\n",
    "pi = 0.14159\n",
    "small_float = -0.001\n",
    "exp_float = 1.5e2\n",
    "print(\"pi = \", pi,type(pi))\n",
    "print(\"small_float = \", small_float,type(small_float))\n",
    "print(\"exp_float = \", exp_float,type(exp_float))\n",
    "#Example of complex value using 3+4j , -2-3j\n",
    "complex_num1 = 3 + 4j\n",
    "complex_num2 = -2 - 3j\n",
    "print(\"complex_num1 = \", complex_num1,type(complex_num1))\n",
    "print(\"complex_num2 = \", complex_num2,type(complex_num2))"
   ]
  },
  {
   "cell_type": "markdown",
   "metadata": {},
   "source": [
    "# String"
   ]
  },
  {
   "cell_type": "code",
   "execution_count": null,
   "metadata": {},
   "outputs": [
    {
     "name": "stdout",
     "output_type": "stream",
     "text": [
      "string1 =  Hello, World! <class 'str'>\n",
      "string2 =  Python is fun! <class 'str'>\n",
      "string3 =  This is a\n",
      "multi-line string. <class 'str'>\n",
      "string4 =  This is also a\n",
      "multi-line string. <class 'str'>\n"
     ]
    }
   ],
   "source": [
    "#Example of string \n",
    "string1 = \"Hello, World!\"   #double quotes\n",
    "string2 = 'Python is fun!' #single quotes\n",
    "string3 = '''This is a            ## triple quotes\n",
    "multi-line string.'''\n",
    "string4 = \"\"\"This is also a\n",
    "multi-line string.\"\"\"   \n",
    "print(\"string1 = \", string1,type(string1))\n",
    "print(\"string2 = \", string2,type(string2))\n",
    "print(\"string3 = \", string3,type(string3))\n",
    "print(\"string4 = \", string4,type(string4))"
   ]
  },
  {
   "cell_type": "markdown",
   "metadata": {},
   "source": [
    "**string operation:**"
   ]
  },
  {
   "cell_type": "code",
   "execution_count": 8,
   "metadata": {},
   "outputs": [
    {
     "name": "stdout",
     "output_type": "stream",
     "text": [
      "full_name =  John Doe <class 'str'>\n",
      "ha_3_times =  HaHaHa <class 'str'>\n",
      "first_name =  H <class 'str'>\n",
      "substring =  oe <class 'str'>\n"
     ]
    }
   ],
   "source": [
    "#concept of string concatenation\n",
    "first_name = \"John\"\n",
    "last_name = \"Doe\"\n",
    "full_name = first_name + \" \" + last_name #concatenation\n",
    "\n",
    "#Repeating strings\n",
    "ha_3_times = \"Ha\" * 3\n",
    "\n",
    "#indexing and slicing\n",
    "first_name = string1[0]\n",
    "substring = last_name[1:3] #slicing\n",
    "\n",
    "print(\"full_name = \", full_name,type(full_name))\n",
    "print(\"ha_3_times = \", ha_3_times,type(ha_3_times))\n",
    "print(\"first_name = \", first_name,type(first_name))\n",
    "print(\"substring = \", substring,type(substring))"
   ]
  },
  {
   "cell_type": "markdown",
   "metadata": {},
   "source": [
    "**Use f-string (formetted strings) after readaility (python3.6+)**"
   ]
  },
  {
   "cell_type": "code",
   "execution_count": null,
   "metadata": {},
   "outputs": [
    {
     "name": "stdout",
     "output_type": "stream",
     "text": [
      "My age is 25 years old.\n"
     ]
    }
   ],
   "source": [
    "age = 25\n",
    "print(f\"My age is {age} years old.\") #f-string for formatting values customized string"
   ]
  },
  {
   "cell_type": "markdown",
   "metadata": {},
   "source": [
    "# 3.Boolean types:"
   ]
  },
  {
   "cell_type": "code",
   "execution_count": 14,
   "metadata": {},
   "outputs": [
    {
     "name": "stdout",
     "output_type": "stream",
     "text": [
      "variable value: True <class 'bool'>\n",
      "likes_coding: False <class 'bool'>\n"
     ]
    }
   ],
   "source": [
    "#Example of boolean values\n",
    "is_python_easy = True\n",
    "likes_coding = False\n",
    "print(\"variable value:\" ,  is_python_easy,type(is_python_easy))\n",
    "print(\"likes_coding:\", likes_coding,type(likes_coding))"
   ]
  },
  {
   "cell_type": "code",
   "execution_count": 15,
   "metadata": {},
   "outputs": [
    {
     "name": "stdout",
     "output_type": "stream",
     "text": [
      "Python is easy to learn!\n"
     ]
    }
   ],
   "source": [
    "#checking value is True or False\n",
    "#instead of : if is_python_easy == True:\n",
    "if is_python_easy:\n",
    "    print(\"Python is easy to learn!\")\n",
    "else:\n",
    "    print(\"Python is not easy to learn!\")"
   ]
  },
  {
   "cell_type": "markdown",
   "metadata": {},
   "source": [
    "**None Types:**\n",
    "\n",
    "absence of value : kisi be jagha jahan data ki nature k pta na hon yeh missing data"
   ]
  },
  {
   "cell_type": "code",
   "execution_count": 23,
   "metadata": {},
   "outputs": [
    {
     "name": "stdout",
     "output_type": "stream",
     "text": [
      "nothing_here: None <class 'NoneType'>\n"
     ]
    }
   ],
   "source": [
    "shanza_khan = None\n",
    "print(\"nothing_here:\", shanza_khan,type(shanza_khan))"
   ]
  },
  {
   "cell_type": "markdown",
   "metadata": {},
   "source": [
    "**checking for None with None rather than == None**"
   ]
  },
  {
   "cell_type": "code",
   "execution_count": 24,
   "metadata": {},
   "outputs": [
    {
     "name": "stdout",
     "output_type": "stream",
     "text": [
      "shanza_khan is None\n"
     ]
    }
   ],
   "source": [
    "if shanza_khan is None: # always is none condition using\n",
    "    print(\"shanza_khan is None\")"
   ]
  },
  {
   "cell_type": "markdown",
   "metadata": {},
   "source": [
    "# List:\n",
    "**using collection of values or variables**"
   ]
  },
  {
   "cell_type": "code",
   "execution_count": 25,
   "metadata": {},
   "outputs": [
    {
     "name": "stdout",
     "output_type": "stream",
     "text": [
      "empty_list: [] <class 'list'>\n",
      "list_of_numbers: [1, 2, 3, 4, 5] <class 'list'>\n",
      "list_of_strings: ['apple', 'banana', 'cherry'] <class 'list'>\n",
      "first_element: 1 <class 'int'>\n",
      "second_element: cherry <class 'str'>\n"
     ]
    }
   ],
   "source": [
    "#creting a list in python with different data types\n",
    "empty_list = [] #empty list\n",
    "list_of_numbers = [1, 2, 3, 4, 5] #list of integers \n",
    "list_of_strings = [\"apple\", \"banana\", \"cherry\"] #list string\n",
    "mixed_list = [1, \"apple\", 3.14, True] #mixed data types\n",
    "\n",
    "print(\"empty_list:\", empty_list,type(empty_list))\n",
    "print(\"list_of_numbers:\", list_of_numbers,type(list_of_numbers))\n",
    "print(\"list_of_strings:\", list_of_strings,type(list_of_strings))\n",
    "\n",
    "#Accesss elements in list by index\n",
    "first_element = list_of_numbers[0] #indexing\n",
    "second_element = list_of_strings[-1] #negative indexing reverse order number\n",
    "\n",
    "print(\"first_element:\", first_element,type(first_element))\n",
    "print(\"second_element:\", second_element,type(second_element))"
   ]
  },
  {
   "cell_type": "markdown",
   "metadata": {},
   "source": [
    "**list is mutable so we can adding removing and Modifying elements**"
   ]
  },
  {
   "cell_type": "code",
   "execution_count": 26,
   "metadata": {},
   "outputs": [
    {
     "name": "stdout",
     "output_type": "stream",
     "text": [
      "list_of_numbers after append: [1, 2, 3, 4, 5, 6] <class 'list'>\n",
      "list_of_strings after insert: ['apple', 'orange', 'banana', 'cherry'] <class 'list'>\n",
      "list_of_numbers after remove: [1, 2, 3, 5, 6] <class 'list'>\n",
      "list_of_strings after pop: ['apple', 'orange', 'cherry'] <class 'list'>\n",
      "list_of_numbers after modifying: [10, 2, 3, 5, 6] <class 'list'>\n"
     ]
    }
   ],
   "source": [
    "#adding elements to list\n",
    "list_of_numbers.append(6) #append method add 6 using append function\n",
    "print(\"list_of_numbers after append:\", list_of_numbers,type(list_of_numbers))\n",
    "list_of_strings.insert(1, \"orange\") #insert method add orange at index 1\n",
    "print(\"list_of_strings after insert:\", list_of_strings,type(list_of_strings))\n",
    "\n",
    "#Removing elements from list\n",
    "list_of_numbers.remove(4) #remove method remove 3 and returan first occurance 3\n",
    "print(\"list_of_numbers after remove:\", list_of_numbers,type(list_of_numbers))\n",
    "list_of_strings.pop(2) #pop method remove element at index 2\n",
    "print(\"list_of_strings after pop:\", list_of_strings,type(list_of_strings)) \n",
    "\n",
    "#Modifying elements in list\n",
    "list_of_numbers[0] = 10 #modify first element\n",
    "print(\"list_of_numbers after modifying:\", list_of_numbers,type(list_of_numbers))\n",
    "\n"
   ]
  },
  {
   "cell_type": "markdown",
   "metadata": {},
   "source": [
    "# Tuple \n",
    "\n",
    "**using braket () or tuple()\n",
    "immutable\n",
    "ordered able like to list**\n"
   ]
  },
  {
   "cell_type": "code",
   "execution_count": null,
   "metadata": {},
   "outputs": [
    {
     "name": "stdout",
     "output_type": "stream",
     "text": [
      "empty_list: ()\n",
      "single_tuple_element: (1,)\n",
      "tuple_of_numbers: (1, 2, 3, 4, 5)\n",
      "mixed_tuple: (1, 'apple', 3.14, True)\n",
      "first_element: 1\n",
      "sliced_tuple: (2, 3, 4, 5)\n"
     ]
    }
   ],
   "source": [
    "# creating a tuple in python\n",
    "empty_list = () #empty tuple\n",
    "single_element_tuple = (1,) #single element tuple\n",
    "tuple_of_numbers = (1, 2, 3, 4, 5) #tuple of integers\n",
    "mixed_tuple = (1, \"apple\", 3.14, True) #mixed data types\n",
    "\n",
    "print(\"empty_list:\", empty_list)\n",
    "print(\"single_tuple_element:\", single_element_tuple)\n",
    "print(\"tuple_of_numbers:\", tuple_of_numbers)\n",
    "print(\"mixed_tuple:\", mixed_tuple)\n",
    "\n",
    "#Accessing elements in tuple by index\n",
    "first_element = tuple_of_numbers[0] #indexing\n",
    "print(\"first_element:\", first_element)\n",
    "\n",
    "#slicing tuple\n",
    "sliced_tuple = tuple_of_numbers[1:] #slicing  after 1 num and i number after nd before 4 like this form(20,30)\n",
    "print(\"sliced_tuple:\", sliced_tuple)"
   ]
  },
  {
   "cell_type": "code",
   "execution_count": 32,
   "metadata": {},
   "outputs": [
    {
     "ename": "TypeError",
     "evalue": "'tuple' object does not support item assignment",
     "output_type": "error",
     "traceback": [
      "\u001b[1;31m---------------------------------------------------------------------------\u001b[0m",
      "\u001b[1;31mTypeError\u001b[0m                                 Traceback (most recent call last)",
      "Cell \u001b[1;32mIn[32], line 3\u001b[0m\n\u001b[0;32m      1\u001b[0m \u001b[38;5;66;03m# tuple is immutable cant be modified\u001b[39;00m\n\u001b[0;32m      2\u001b[0m \u001b[38;5;66;03m# try to mofify tuple\u001b[39;00m\n\u001b[1;32m----> 3\u001b[0m \u001b[43mtuple_of_numbers\u001b[49m\u001b[43m[\u001b[49m\u001b[38;5;241;43m0\u001b[39;49m\u001b[43m]\u001b[49m \u001b[38;5;241m=\u001b[39m \u001b[38;5;241m10\u001b[39m \u001b[38;5;66;03m# this will raise an error \u001b[39;00m\n\u001b[0;32m      4\u001b[0m \u001b[38;5;28mprint\u001b[39m(\u001b[38;5;124m\"\u001b[39m\u001b[38;5;124mtuple_of_numbers after modifying:\u001b[39m\u001b[38;5;124m\"\u001b[39m, tuple_of_numbers)\n",
      "\u001b[1;31mTypeError\u001b[0m: 'tuple' object does not support item assignment"
     ]
    }
   ],
   "source": [
    "# tuple is immutable cant be modified\n",
    "# try to mofify tuple\n",
    "tuple_of_numbers[0] = 10 # this will raise an error \n",
    "print(\"tuple_of_numbers after modifying:\", tuple_of_numbers)"
   ]
  },
  {
   "cell_type": "code",
   "execution_count": 33,
   "metadata": {},
   "outputs": [
    {
     "name": "stdout",
     "output_type": "stream",
     "text": [
      "name: John\n",
      "age: 30\n",
      "country: USA\n"
     ]
    }
   ],
   "source": [
    "#unpacking tuple into  (separate variables)\n",
    "person_tuple = (\"John\", 30, \"USA\")\n",
    "name, age, country = person_tuple #unpacking\n",
    "print(\"name:\", name)\n",
    "print(\"age:\", age)\n",
    "print(\"country:\", country)"
   ]
  },
  {
   "cell_type": "markdown",
   "metadata": {},
   "source": [
    "# Dictionary:\n",
    "\n",
    "**key_values pairs , used for {} braces or dic{}, unordered , mutable, key must be immutable, value can be any type\n",
    "key is a hashable object, value can be any type.**"
   ]
  },
  {
   "cell_type": "code",
   "execution_count": 55,
   "metadata": {},
   "outputs": [
    {
     "name": "stdout",
     "output_type": "stream",
     "text": [
      "empty_dict: {}\n",
      "dict_of_numbers: {1: 'one', 2: 'two', 3: 'three'}\n",
      "dict_of_strings: {'apple': 1, 'banana': 2, 'cherry': 3}\n",
      "another_dict: {'name': 'John', 'age': 30, 'country': 'USA'}\n",
      "first_element: one\n",
      "name: dict['name']\n",
      "age: 30\n",
      "country USA\n"
     ]
    }
   ],
   "source": [
    "#creating a dictionary in python\n",
    "empty_dict = {} #empty dictionary\n",
    "dict_of_numbers = {1: \"one\", 2: \"two\", 3: \"three\"} #dictionary of integers\n",
    "dict_of_strings = {\"apple\": 1, \"banana\": 2, \"cherry\": 3} #dictionary of strings\n",
    "another_dict = dict(name=\"John\", age=30, country=\"USA\") #another way to create a dictionary\n",
    "\n",
    "print(\"empty_dict:\", empty_dict)\n",
    "print(\"dict_of_numbers:\", dict_of_numbers)\n",
    "print(\"dict_of_strings:\", dict_of_strings)\n",
    "print(\"another_dict:\", another_dict)\n",
    "\n",
    "#Accessing elements in dictionary by key\n",
    "first_element = dict_of_numbers[1] #accessing by key\n",
    "print(\"first_element:\", first_element)\n",
    "\n",
    "print(\"name:\" , dict[\"name\"]) #another way to create a dictionary\n",
    "print(\"age:\", another_dict.get(\"age\"))# .get() method error handling\n",
    "print(\"country\", another_dict.get(\"country\")) # .get()  safer method error handling returan None if key not found \n"
   ]
  },
  {
   "cell_type": "markdown",
   "metadata": {},
   "source": [
    "Adding Updating and removing key"
   ]
  },
  {
   "cell_type": "code",
   "execution_count": 56,
   "metadata": {},
   "outputs": [
    {
     "name": "stdout",
     "output_type": "stream",
     "text": [
      "another_dict after adding: {'name': 'John', 'age': 30, 'country': 'USA', 'city': 'New York'}\n",
      "removed_value: 30\n",
      "name exists in another_dict\n"
     ]
    }
   ],
   "source": [
    "#adding and updating key_value pairs in dictionary\n",
    "another_dict[\"city\"] = \"New York\" #adding new key-value pair add city if dnot exist else update\n",
    "print(\"another_dict after adding:\", another_dict)\n",
    "\n",
    "#Removing key-value pairs from dictionary\n",
    "removed_value = another_dict.pop(\"age\") #remove key-value pair using pop method\n",
    "print(\"removed_value:\", removed_value)\n",
    "\n",
    "#checking if key exists in dictionary\n",
    "if \"name\" in another_dict: #check if key exists\n",
    "    print(\"name exists in another_dict\")\n",
    "else:\n",
    "    print(\"name does not exist in another_dict\")"
   ]
  },
  {
   "cell_type": "markdown",
   "metadata": {},
   "source": [
    "# Set collection\n",
    "\n",
    "**using {} braces , unorderd collection of elements , its mutable you can add remove and modify elements**"
   ]
  },
  {
   "cell_type": "code",
   "execution_count": 58,
   "metadata": {},
   "outputs": [
    {
     "name": "stdout",
     "output_type": "stream",
     "text": [
      "empty_set: set()\n",
      "set_of_numbers: {1, 2, 3, 4, 5}\n",
      "mixed_set: {1, 3.14, 'apple'}\n"
     ]
    }
   ],
   "source": [
    "#creating a set in python\n",
    "empty_set = set() #empty set\n",
    "set_of_numbers = {1, 2, 3, 4,4,5} #set of integers\n",
    "mixed_set = {1, \"apple\", 3.14, True} #mixed data types\n",
    "print(\"empty_set:\", empty_set)\n",
    "print(\"set_of_numbers:\", set_of_numbers)\n",
    "print(\"mixed_set:\", mixed_set)\n"
   ]
  },
  {
   "cell_type": "markdown",
   "metadata": {},
   "source": [
    "Adding Removing Elements"
   ]
  },
  {
   "cell_type": "code",
   "execution_count": 61,
   "metadata": {},
   "outputs": [
    {
     "name": "stdout",
     "output_type": "stream",
     "text": [
      "set_of_numbers after adding: {1, 2, 4, 5, 6}\n",
      "set_of_numbers after discard: {1, 2, 4, 5, 6}\n",
      "updated_set: {1, 2, 4, 5, 6}\n"
     ]
    }
   ],
   "source": [
    "#adding elements to set\n",
    "set_of_numbers.add(6) #add method add 6\n",
    "print(\"set_of_numbers after adding:\", set_of_numbers)\n",
    "set_of_numbers.discard(3) #discard method remove 3 if exist\n",
    "print(\"set_of_numbers after discard:\", set_of_numbers)\n",
    "print(\"updated_set:\", set_of_numbers)"
   ]
  },
  {
   "cell_type": "markdown",
   "metadata": {},
   "source": [
    "# Set operation:\n",
    "\n",
    "**its support mathematical set operation like union intersction difference etc**"
   ]
  },
  {
   "cell_type": "code",
   "execution_count": null,
   "metadata": {},
   "outputs": [
    {
     "name": "stdout",
     "output_type": "stream",
     "text": [
      "set_union: {1, 2, 3, 4, 5}\n",
      "set_intersection: {3}\n",
      "set_difference: {1, 2}\n",
      "set_symmetric_difference: {1, 2, 4, 5}\n"
     ]
    }
   ],
   "source": [
    "set_a = {1, 2, 3}\n",
    "set_b = {3, 4, 5}\n",
    "#union of two sets\n",
    "set_union = set_a.union(set_b) #union method  this set_a|set_b\n",
    "print(\"set_union:\", set_union)\n",
    "\n",
    "#intersection of two sets\n",
    "set_intersection = set_a.intersection(set_b) #intersection method this set_a&set_b\n",
    "print(\"set_intersection:\", set_intersection)\n",
    "\n",
    "#difference of two sets\n",
    "set_difference = set_a.difference(set_b) #difference method this set_a-set_b\n",
    "print(\"set_difference:\", set_difference)\n",
    "\n",
    "#symmetric difference of two sets\n",
    "set_symmetric_difference = set_a.symmetric_difference(set_b) #symmetric difference method this set_a^set_b giving answer without common elements\n",
    "print(\"set_symmetric_difference:\", set_symmetric_difference) "
   ]
  }
 ],
 "metadata": {
  "kernelspec": {
   "display_name": "awfera",
   "language": "python",
   "name": "python3"
  },
  "language_info": {
   "codemirror_mode": {
    "name": "ipython",
    "version": 3
   },
   "file_extension": ".py",
   "mimetype": "text/x-python",
   "name": "python",
   "nbconvert_exporter": "python",
   "pygments_lexer": "ipython3",
   "version": "3.10.16"
  }
 },
 "nbformat": 4,
 "nbformat_minor": 2
}
