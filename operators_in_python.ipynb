{
 "cells": [
  {
   "cell_type": "markdown",
   "metadata": {},
   "source": [
    "# Operators In Python: Lectures No 6\n",
    "\n",
    "python provide different types of operators to perform various operations on data. Here are some of the most commonly used operators in\n",
    "\n",
    " 1. Arithmetic Operators\n",
    "\n",
    " 2. logical operators\n"
   ]
  },
  {
   "cell_type": "markdown",
   "metadata": {},
   "source": [
    "## # Aissgnment Operators:\n",
    "\n",
    "They are used to assign a value to a variable.like =, +=, -=, *=, /=, %=, **=, //=, <<=, >>="
   ]
  },
  {
   "cell_type": "code",
   "execution_count": 4,
   "metadata": {},
   "outputs": [
    {
     "name": "stdout",
     "output_type": "stream",
     "text": [
      "10\n",
      "x: 15\n"
     ]
    }
   ],
   "source": [
    "#Assignment Opeartor Examples\n",
    "x = 5\n",
    "y = 10\n",
    "#Assignment\n",
    "x = y\n",
    "print(x) #Output: 10\n",
    "\n",
    "#Addition Assignment\n",
    "x = 5\n",
    "y = 10\n",
    "x += y  #equals x = x + y\n",
    "print(\"x:\" , x) #Output: 15\n"
   ]
  },
  {
   "cell_type": "code",
   "execution_count": null,
   "metadata": {},
   "outputs": [
    {
     "name": "stdout",
     "output_type": "stream",
     "text": [
      "Addition: 13\n",
      "Subtraction: 7\n",
      "Multiplication: 30\n",
      "Division: 3.3333333333333335\n",
      "Floor Division: 3\n",
      "Modulus: 1\n",
      "Exponentiation: 1000\n"
     ]
    }
   ],
   "source": [
    "#Arithmetic Operators\n",
    "x = 10\n",
    "y = 3\n",
    "#Addition\n",
    "print(\"Addition:\", x + y) #Output: 13\n",
    "#Subtraction\n",
    "print(\"Subtraction:\", x - y) #Output: 7\n",
    "#Multiplication\n",
    "print(\"Multiplication:\", x * y) #Output: 30\n",
    "#Division\n",
    "print(\"Division:\", x / y) #Output: 3.3333333333333335 quotient value\n",
    "#Floor Division\n",
    "print(\"Floor Division:\", x // y) #Output: 3 floor value without dcimal point\n",
    "#Modulus\n",
    "print(\"Modulus:\", x % y) #Output: 1 reminder value\n",
    "#Exponentiation\n",
    "print(\"Exponentiation:\", x ** y) #Output: 1000 power value "
   ]
  },
  {
   "cell_type": "markdown",
   "metadata": {},
   "source": [
    "## # Comparison Operators:\n",
    "logical building create . Condition checking operators are used to check the condition of a logical building. The condition checking operators are: AND, OR\n",
    "they give output True or False boolean output "
   ]
  },
  {
   "cell_type": "code",
   "execution_count": null,
   "metadata": {},
   "outputs": [
    {
     "name": "stdout",
     "output_type": "stream",
     "text": [
      "Equal to: False\n",
      "Not equal to: True\n",
      "Greater than: False\n",
      "Less than: True\n",
      "Greater than or equal to: False\n",
      "Less than or equal to: True\n"
     ]
    }
   ],
   "source": [
    "#Comparison Operators\n",
    "x , y = 5 , 10\n",
    "print(\"Equal to:\", x == y) #Output: False tow values are equal or not equal comaprison\n",
    "print(\"Not equal to:\", x != y) #Output: True\n",
    "print(\"Greater than:\", x > y) #Output: False\n",
    "print(\"Less than:\", x < y) #Output: True\n",
    "print(\"Greater than or equal to:\", x >= y) #Output: False    (using in OR case)\n",
    "print(\"Less than or equal to:\", x <= y) #Output: True (using in OR case) one condition true then it will print true\n"
   ]
  },
  {
   "cell_type": "markdown",
   "metadata": {},
   "source": [
    "**Logical Operators:**\n",
    "\n",
    "they can treated more than one condition (using mutiple condition)\n",
    "when evaluating the expression. The most common logical operators are AND, OR, and NOT.\n"
   ]
  },
  {
   "cell_type": "code",
   "execution_count": null,
   "metadata": {},
   "outputs": [
    {
     "name": "stdout",
     "output_type": "stream",
     "text": [
      "x or y : False\n",
      "x and y: True\n",
      "not x: False\n"
     ]
    }
   ],
   "source": [
    "#Logical Operators examples\n",
    "x , y = True , False #using tow boolean values\n",
    "print(\"x or y :\",x and y) #Output: False\n",
    "print(\"x and y:\", x or y) #Output: True\n",
    "print(\"not x:\", not x) #Output: False naigative value\n",
    "\n",
    "#ILogical Operators using tree boolean values\n",
    "x , y , z = True , False , True\n",
    "print(\"x or y and z:\", x or y and z) #Output: True\n",
    "print(\"x and y or z:\", x and y or z) #Output: True\n"
   ]
  }
 ],
 "metadata": {
  "kernelspec": {
   "display_name": "awfera",
   "language": "python",
   "name": "python3"
  },
  "language_info": {
   "codemirror_mode": {
    "name": "ipython",
    "version": 3
   },
   "file_extension": ".py",
   "mimetype": "text/x-python",
   "name": "python",
   "nbconvert_exporter": "python",
   "pygments_lexer": "ipython3",
   "version": "3.10.16"
  }
 },
 "nbformat": 4,
 "nbformat_minor": 2
}
