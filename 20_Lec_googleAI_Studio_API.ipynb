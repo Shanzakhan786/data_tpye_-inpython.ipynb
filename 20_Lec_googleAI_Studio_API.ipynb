{
 "cells": [
  {
   "cell_type": "markdown",
   "id": "80207c0d",
   "metadata": {},
   "source": [
    "# **AWFERA : Python Course**\n",
    "\n",
    "# **Lectures No : 20** (Part 2)\n",
    " \n",
    "# **Topic : Introduction to Google AI Studio API**"
   ]
  },
  {
   "cell_type": "markdown",
   "id": "56403c98",
   "metadata": {},
   "source": [
    "# What Is Google AI Studio ?\n",
    "\n",
    " \n",
    "\n",
    "**Google AI Studio** is a web-based platform developed by Google to help developers, researchers, and businesses interact with and build applications using Google’s generative AI models, such as the **Gemini** models. It provides an easy-to-use interface for prompt design, testing, and integration without needing to write extensive backend code.\n",
    "\n",
    "## Key Features\n",
    "\n",
    "- 🌐 **Web-based interface**: No setup required, accessible via browser.\n",
    "- 💡 **Prompt testing**: Design and test prompts with real-time output.\n",
    "- 🤖 **Supports Gemini models**: Access to Google’s latest generative AI.\n",
    "- 🔌 **API Integration**: Export working code snippets (Python, Node.js, etc.).\n",
    "- 📁 **Project management**: Organize prompts and outputs in projects.\n",
    "\n",
    "## Use Cases\n",
    "\n",
    "- Chatbot development  \n",
    "- Text summarization and generation  \n",
    "- Code assistance  \n",
    "- AI-powered content creation\n",
    "\n",
    "## Getting Started\n",
    "\n",
    "Visit: [https://makersuite.google.com/](https://makersuite.google.com/)\n",
    "\n"
   ]
  },
  {
   "cell_type": "markdown",
   "id": "6a5374e7",
   "metadata": {},
   "source": [
    "# ✅ Steps 1 : Install the google AI Python Package \n"
   ]
  },
  {
   "cell_type": "code",
   "execution_count": 2,
   "id": "e3baac8e",
   "metadata": {},
   "outputs": [
    {
     "name": "stdout",
     "output_type": "stream",
     "text": [
      "^C\n"
     ]
    }
   ],
   "source": [
    "# Step 1: Install the official SDK\n",
    "!pip install  -q -U google-generativeai\n"
   ]
  },
  {
   "cell_type": "markdown",
   "id": "20953161",
   "metadata": {},
   "source": [
    "# Step 2 : Set Up the Google AI Studio Client "
   ]
  },
  {
   "cell_type": "markdown",
   "id": "a8f84cd4",
   "metadata": {},
   "source": [
    "Nows We wil create a client using our API Key"
   ]
  },
  {
   "cell_type": "code",
   "execution_count": 4,
   "id": "c0c7ddcf",
   "metadata": {},
   "outputs": [
    {
     "name": "stderr",
     "output_type": "stream",
     "text": [
      "c:\\Users\\DELL\\anaconda3\\envs\\awfera\\lib\\site-packages\\tqdm\\auto.py:21: TqdmWarning: IProgress not found. Please update jupyter and ipywidgets. See https://ipywidgets.readthedocs.io/en/stable/user_install.html\n",
      "  from .autonotebook import tqdm as notebook_tqdm\n"
     ]
    },
    {
     "ename": "NameError",
     "evalue": "name 'google_api_key' is not defined",
     "output_type": "error",
     "traceback": [
      "\u001b[1;31m---------------------------------------------------------------------------\u001b[0m",
      "\u001b[1;31mNameError\u001b[0m                                 Traceback (most recent call last)",
      "Cell \u001b[1;32mIn[4], line 5\u001b[0m\n\u001b[0;32m      2\u001b[0m \u001b[38;5;28;01mimport\u001b[39;00m\u001b[38;5;250m \u001b[39m\u001b[38;5;21;01mgoogle\u001b[39;00m\u001b[38;5;21;01m.\u001b[39;00m\u001b[38;5;21;01mgenerativeai\u001b[39;00m\u001b[38;5;250m \u001b[39m\u001b[38;5;28;01mas\u001b[39;00m\u001b[38;5;250m \u001b[39m\u001b[38;5;21;01mgenai\u001b[39;00m\n\u001b[0;32m      4\u001b[0m \u001b[38;5;66;03m# Configure the API with your key \u001b[39;00m\n\u001b[1;32m----> 5\u001b[0m genai\u001b[38;5;241m.\u001b[39mconfigure(api_ke\u001b[38;5;241m=\u001b[39m\u001b[43mgoogle_api_key\u001b[49m)\n\u001b[0;32m      7\u001b[0m \u001b[38;5;66;03m#List availabe models to verify our setup\u001b[39;00m\n\u001b[0;32m      8\u001b[0m \u001b[38;5;28;01mtry\u001b[39;00m:\n",
      "\u001b[1;31mNameError\u001b[0m: name 'google_api_key' is not defined"
     ]
    }
   ],
   "source": [
    "# Important  the google generative AI Library\n",
    "import google.generativeai as genai\n",
    "\n",
    "# Configure the API with your key \n",
    "genai.configure(api_ke=google_api_key)\n",
    "\n",
    "#List availabe models to verify our setup\n",
    "try:\n",
    "    models = genai.list_models()\n",
    "    gemini_models = [model.name for model in models if \"gemini\" in model.name.lower()]\n",
    "    print (\"Avaible Genimi models:\")\n",
    "    for model in genimi_models :\n",
    "        print(f\" -{model}\")\n",
    "    print(\"\\nGoogle AI STudio client configured successfully!\")\n",
    "except Exception as e:\n",
    "    print(f\"Error configuring Google AI studio client:{st(e)}\")"
   ]
  },
  {
   "cell_type": "markdown",
   "id": "0c069afc",
   "metadata": {},
   "source": [
    "# Step 3 : Make a Simple Text Generation Request \n",
    "\n",
    "Let's stat with a basic example "
   ]
  },
  {
   "cell_type": "code",
   "execution_count": 12,
   "id": "56128d48",
   "metadata": {},
   "outputs": [
    {
     "name": "stdout",
     "output_type": "stream",
     "text": [
      "Prompt: Explain what an API is in one sentence.\n",
      "Response: Error: 400 API key not valid. Please pass a valid API key. [reason: \"API_KEY_INVALID\"\n",
      "domain: \"googleapis.com\"\n",
      "metadata {\n",
      "  key: \"service\"\n",
      "  value: \"generativelanguage.googleapis.com\"\n",
      "}\n",
      ", locale: \"en-US\"\n",
      "message: \"API key not valid. Please pass a valid API key.\"\n",
      "]\n"
     ]
    }
   ],
   "source": [
    "import google.generativeai as genai\n",
    "\n",
    "# Configure API key\n",
    "genai.configure(api_key=\"YOUR_API_KEY\")\n",
    "\n",
    "def get_gemini_response(prompt):\n",
    "    \"\"\" \n",
    "    Function to get a response from Google Gemini models.\n",
    "\n",
    "    Args:\n",
    "        prompt (str): The text prompt to send to the AI\n",
    "\n",
    "    Returns:\n",
    "        str: The AI's response\n",
    "    \"\"\"\n",
    "    try:\n",
    "        # Select the Gemini model\n",
    "        model = genai.GenerativeModel('gemini-1.5-flash')\n",
    "\n",
    "        # Generate a response\n",
    "        response = model.generate_content(prompt)\n",
    "        return response.text\n",
    "\n",
    "    except Exception as e:\n",
    "        return f\"Error: {str(e)}\"\n",
    "\n",
    "# Test the function\n",
    "prompt = \"Explain what an API is in one sentence.\"\n",
    "response = get_gemini_response(prompt)\n",
    "\n",
    "print(f\"Prompt: {prompt}\")\n",
    "print(f\"Response: {response}\")\n"
   ]
  },
  {
   "cell_type": "code",
   "execution_count": null,
   "id": "1976a572",
   "metadata": {},
   "outputs": [
    {
     "name": "stdout",
     "output_type": "stream",
     "text": [
      "Prompt: Explain what an API is in one sentence.\n",
      "Response :Error: name 'genai' is not defined\n"
     ]
    }
   ],
   "source": [
    "def get_gemini_response(prompt):\n",
    "    \"\"\" \n",
    "    Function to get a response from Google Gemini models.\n",
    "\n",
    "    Args :\n",
    "\n",
    "        prompt (str) : The text prompt to send to the Ai\n",
    "\n",
    "    Returns :\n",
    "        str : The AIs response\n",
    "    \"\"\"\n",
    "    try: \n",
    "        # Select thr genimi models (use models from list_models output)\n",
    "        model = genai.GenerativeModel('model/gemini-1.5-flash-8b-lates')\n",
    "\n",
    "        # Generate a response text\n",
    "        return response.text\n",
    "\n",
    "    except Exception as e:\n",
    "        return f\"Error: {str(e)}\"\n",
    "\n",
    "# test our function with a simple prompt \n",
    "prompt = \"Explain what an API is in one sentence.\"\n",
    "response = get_gemini_response(prompt)\n",
    "\n",
    "print(f\"Prompt: {prompt}\")\n",
    "print(f\"Response :{response}\")\n"
   ]
  },
  {
   "cell_type": "markdown",
   "id": "a4fe3efb",
   "metadata": {},
   "source": [
    "# 📘 Explanation of Google Gemini AI Python Code\n",
    "\n",
    "This Python script is designed to interact with **Google's Gemini AI** using the official `google.generativeai` SDK.\n",
    "\n",
    "---\n",
    "\n",
    "## 🔐 API Configuration\n",
    "The script starts by importing the necessary library and configuring it with your **Google API key**, which authenticates your access to Gemini's AI services.\n",
    "\n",
    "---\n",
    "\n",
    "## 🧠 Function Purpose\n",
    "A function named `get_gemini_response` is defined to:\n",
    "- Take a **text prompt** as input.\n",
    "- Connect to the **Gemini 1.5 Flash model**.\n",
    "- Send the prompt and **generate a response** using `generate_content`.\n",
    "- Return the **text of the AI's answer**.\n",
    "\n",
    "---\n",
    "\n",
    "## ⚠️ Error Handling\n",
    "The function includes a `try-except` block to handle issues like:\n",
    "- Invalid API keys\n",
    "- Internet problems\n",
    "- Any unexpected errors during execution\n",
    "\n",
    "If an error occurs, it returns a message with the error description.\n",
    "\n",
    "---\n",
    "\n",
    "## 🧪 Testing the Function\n",
    "A sample prompt (e.g., _\"Explain what an API is in one sentence.\"_) is used to test the function. The response is printed to show both the prompt and the output from the AI.\n",
    "\n",
    "---\n",
    "\n",
    "## ✅ Summary\n",
    "This script demonstrates a simple and effective way to use **Google Gemini AI** in Python to send questions and get intelligent text responses.\n"
   ]
  },
  {
   "cell_type": "markdown",
   "id": "7a3edefc",
   "metadata": {},
   "source": [
    "# **step no 4 : Using DIfferent Gemini Models :**"
   ]
  },
  {
   "cell_type": "markdown",
   "id": "c3a30092",
   "metadata": {},
   "source": [
    "Google AI studio offers different Gemini versions, each with its own set of features and capabilities. The versions are:\n",
    "\n",
    "Gemini 1.0: This is the first version of Gemini, which was released in 2021. It has a limited set of features and capabilities, but it is still a good\n",
    "\n",
    "Gemini 2.0: This version was released in 2021 and offers improved performance, \n",
    "\n",
    "Gemini 3.0: This version was released in 2022 and offers improved performance and up to soon..\n"
   ]
  },
  {
   "cell_type": "code",
   "execution_count": 2,
   "id": "5191c662",
   "metadata": {},
   "outputs": [
    {
     "name": "stdout",
     "output_type": "stream",
     "text": [
      "Prompt: Explain the difference between Supervised and unsuperised.\n",
      "Response :Error: name 'genai' is not defined\n"
     ]
    }
   ],
   "source": [
    "def get_gemini_flash_response(prompt):  #using gemini flash models\n",
    "    \"\"\" \n",
    "    Function to get a response from Google Gemini models.\n",
    "\n",
    "    Args :\n",
    "\n",
    "        prompt (str) : The text prompt to send to the Ai\n",
    "\n",
    "    Returns :\n",
    "        str : The AIs response\n",
    "    \"\"\"\n",
    "    try: \n",
    "        # Select thr genimi models (use models from list_models output)\n",
    "        model = genai.GenerativeModel('model/gemini-1.5-flash-8b-lates')\n",
    "\n",
    "        # Generate a response text\n",
    "        response = model.generate_content(prompt)\n",
    "\n",
    "        # Generate a response text\n",
    "        return response.text\n",
    "\n",
    "    except Exception as e:\n",
    "        return f\"Error: {str(e)}\"\n",
    "\n",
    "# test our function with a simple prompt \n",
    "complex_prompt = \"Explain the difference between Supervised and unsuperised.\"\n",
    "response = get_gemini_flash_response(complex_prompt)\n",
    "\n",
    "print(f\"Prompt: {complex_prompt}\")\n",
    "print(f\"Response :{response}\")\n"
   ]
  },
  {
   "cell_type": "markdown",
   "id": "dcf27212",
   "metadata": {},
   "source": [
    "# **Step No 5: Create a Chat Converstion :**"
   ]
  },
  {
   "cell_type": "markdown",
   "id": "7b4728be",
   "metadata": {},
   "source": [
    "Now let's create a multi-turn converstion with the gemini models:"
   ]
  },
  {
   "cell_type": "code",
   "execution_count": 3,
   "id": "54339fec",
   "metadata": {},
   "outputs": [
    {
     "name": "stderr",
     "output_type": "stream",
     "text": [
      "c:\\Users\\DELL\\anaconda3\\envs\\awfera\\lib\\site-packages\\tqdm\\auto.py:21: TqdmWarning: IProgress not found. Please update jupyter and ipywidgets. See https://ipywidgets.readthedocs.io/en/stable/user_install.html\n",
      "  from .autonotebook import tqdm as notebook_tqdm\n"
     ]
    },
    {
     "name": "stdout",
     "output_type": "stream",
     "text": [
      "Error: 400 API key not valid. Please pass a valid API key. [reason: \"API_KEY_INVALID\"\n",
      "domain: \"googleapis.com\"\n",
      "metadata {\n",
      "  key: \"service\"\n",
      "  value: \"generativelanguage.googleapis.com\"\n",
      "}\n",
      ", locale: \"en-US\"\n",
      "message: \"API key not valid. Please pass a valid API key.\"\n",
      "]\n"
     ]
    }
   ],
   "source": [
    "import google.generativeai as genai\n",
    "\n",
    "# 🔐 Step 1: Configure your API key\n",
    "genai.configure(api_key=\"YOUR_API_KEY\")  # Replace with your actual API key\n",
    "\n",
    "# 🧠 Step 2: Create a Gemini chat session\n",
    "def chat_with_gemini():\n",
    "    \"\"\"\n",
    "    Function to start a chat session with the Gemini model and simulate a conversation.\n",
    "    \"\"\"\n",
    "    try:\n",
    "        # Initialize the model (e.g., 'gemini-1.5-pro' or 'gemini-1.5-flash')\n",
    "        model = genai.GenerativeModel('gemini-1.5-flash')\n",
    "\n",
    "        # Start a chat session with empty history\n",
    "        chat = model.start_chat(history=[])\n",
    "\n",
    "        # 🗨️ Simulate a chat conversation\n",
    "        messages = [\n",
    "            \"Hello, who are you?\",\n",
    "            \"Can you explain what an API is?\",\n",
    "            \"Give me an example of a real-life API use.\",\n",
    "            \"Thanks! That's helpful.\"\n",
    "        ]\n",
    "\n",
    "        for msg in messages:\n",
    "            response = chat.send_message(msg)\n",
    "            print(f\"👤 You: {msg}\")\n",
    "            print(f\"🤖 Gemini: {response.text}\\n\")\n",
    "\n",
    "    except Exception as e:\n",
    "        print(f\"Error: {str(e)}\")\n",
    "\n",
    "# ▶️ Run the chat\n",
    "chat_with_gemini()\n"
   ]
  },
  {
   "cell_type": "markdown",
   "id": "f95ac8a8",
   "metadata": {},
   "source": [
    "💡 Features:\n",
    "Supports multi-turn chat with memory (context-aware replies).\n",
    "\n",
    "Uses Gemini's start_chat() and send_message() functions.\n",
    "\n",
    "Change model name to 'gemini-1.5-pro' for deeper responses"
   ]
  },
  {
   "cell_type": "markdown",
   "id": "4c06971e",
   "metadata": {},
   "source": [
    "# **Step 6 : Configuring Generation Parameters**"
   ]
  },
  {
   "cell_type": "code",
   "execution_count": 4,
   "id": "3d106c17",
   "metadata": {},
   "outputs": [
    {
     "name": "stdout",
     "output_type": "stream",
     "text": [
      "Error: ChatSession.send_message() got an unexpected keyword argument 'temperature'\n"
     ]
    }
   ],
   "source": [
    "import google.generativeai as genai\n",
    "\n",
    "# Configure your API key\n",
    "genai.configure(api_key=\"YOUR_API_KEY\")  # Replace with your actual API key\n",
    "\n",
    "def chat_with_gemini_custom_params():\n",
    "    \"\"\"\n",
    "    Function to start a Gemini chat session and send messages with custom generation parameters.\n",
    "    \"\"\"\n",
    "    try:\n",
    "        # Initialize the Gemini model\n",
    "        model = genai.GenerativeModel('gemini-1.5-flash')\n",
    "\n",
    "        # Start a chat session\n",
    "        chat = model.start_chat(history=[])\n",
    "\n",
    "        # Messages to send in the conversation\n",
    "        messages = [\n",
    "            \"Hello, who are you?\",\n",
    "            \"Can you explain what an API is?\",\n",
    "            \"Give me an example of a real-life API use.\",\n",
    "            \"Thanks! That's helpful.\"\n",
    "        ]\n",
    "\n",
    "        # Iterate through messages and get responses with custom parameters\n",
    "        for msg in messages:\n",
    "            response = chat.send_message(\n",
    "                msg,\n",
    "                temperature=0.4,          # Controls creativity: lower is more focused\n",
    "                max_output_tokens=150,    # Maximum length of the response\n",
    "                top_p=0.9,                # Controls token diversity\n",
    "                stop_sequences=[\"\\n\"]     # Stop generating at newline\n",
    "            )\n",
    "            print(f\"👤 You: {msg}\")\n",
    "            print(f\"🤖 Gemini: {response.text}\\n\")\n",
    "\n",
    "    except Exception as e:\n",
    "        print(f\"Error: {str(e)}\")\n",
    "\n",
    "# Run the customized chat\n",
    "chat_with_gemini_custom_params()\n"
   ]
  },
  {
   "cell_type": "markdown",
   "id": "d8e5d7d9",
   "metadata": {},
   "source": [
    "**What’s new here?**\n",
    "\n",
    "Added parameters like temperature, max_output_tokens, top_p, and stop_sequences to the send_message call.\n",
    "\n",
    "These control response creativity, length, and when to stop generating"
   ]
  },
  {
   "cell_type": "markdown",
   "id": "f57f7728",
   "metadata": {},
   "source": [
    "# **Step 7 : Error Handling for Google AI Studio API :**"
   ]
  },
  {
   "cell_type": "code",
   "execution_count": 5,
   "id": "d54be253",
   "metadata": {},
   "outputs": [
    {
     "name": "stdout",
     "output_type": "stream",
     "text": [
      "Attempt 1 failed with error: 400 API key not valid. Please pass a valid API key. [reason: \"API_KEY_INVALID\"\n",
      "domain: \"googleapis.com\"\n",
      "metadata {\n",
      "  key: \"service\"\n",
      "  value: \"generativelanguage.googleapis.com\"\n",
      "}\n",
      ", locale: \"en-US\"\n",
      "message: \"API key not valid. Please pass a valid API key.\"\n",
      "]\n",
      "Retrying in 2 seconds...\n",
      "Attempt 2 failed with error: 400 API key not valid. Please pass a valid API key. [reason: \"API_KEY_INVALID\"\n",
      "domain: \"googleapis.com\"\n",
      "metadata {\n",
      "  key: \"service\"\n",
      "  value: \"generativelanguage.googleapis.com\"\n",
      "}\n",
      ", locale: \"en-US\"\n",
      "message: \"API key not valid. Please pass a valid API key.\"\n",
      "]\n",
      "Retrying in 4 seconds...\n",
      "Attempt 3 failed with error: 400 API key not valid. Please pass a valid API key. [reason: \"API_KEY_INVALID\"\n",
      "domain: \"googleapis.com\"\n",
      "metadata {\n",
      "  key: \"service\"\n",
      "  value: \"generativelanguage.googleapis.com\"\n",
      "}\n",
      ", locale: \"en-US\"\n",
      "message: \"API key not valid. Please pass a valid API key.\"\n",
      "]\n",
      "Failed after 3 attempts. Error: 400 API key not valid. Please pass a valid API key. [reason: \"API_KEY_INVALID\"\n",
      "domain: \"googleapis.com\"\n",
      "metadata {\n",
      "  key: \"service\"\n",
      "  value: \"generativelanguage.googleapis.com\"\n",
      "}\n",
      ", locale: \"en-US\"\n",
      "message: \"API key not valid. Please pass a valid API key.\"\n",
      "]\n"
     ]
    }
   ],
   "source": [
    "import time\n",
    "import google.generativeai as genai\n",
    "\n",
    "genai.configure(api_key=\"YOUR_API_KEY\")  # Replace with your real API key\n",
    "\n",
    "def safe_gemini_chat_with_retries(prompt, max_retries=3, backoff_factor=2):\n",
    "    \"\"\"\n",
    "    Chat with Google Gemini model with robust error handling and retries.\n",
    "\n",
    "    Args:\n",
    "        prompt (str): The user input prompt.\n",
    "        max_retries (int): Maximum retry attempts for transient errors.\n",
    "        backoff_factor (int): Multiplier for exponential backoff delay.\n",
    "\n",
    "    Returns:\n",
    "        str: The model response or error message.\n",
    "    \"\"\"\n",
    "    model = genai.GenerativeModel('gemini-1.5-flash')\n",
    "    chat = model.start_chat(history=[])\n",
    "\n",
    "    for attempt in range(1, max_retries + 1):\n",
    "        try:\n",
    "            response = chat.send_message(prompt)\n",
    "            return response.text\n",
    "\n",
    "        except Exception as e:\n",
    "            # Log the error (print here, but you can use logging module)\n",
    "            print(f\"Attempt {attempt} failed with error: {str(e)}\")\n",
    "\n",
    "            # If max retries reached, return error message\n",
    "            if attempt == max_retries:\n",
    "                return f\"Failed after {max_retries} attempts. Error: {str(e)}\"\n",
    "\n",
    "            # Wait before retrying (exponential backoff)\n",
    "            wait_time = backoff_factor ** attempt\n",
    "            print(f\"Retrying in {wait_time} seconds...\")\n",
    "            time.sleep(wait_time)\n",
    "\n",
    "# Example usage\n",
    "user_prompt = \"Explain quantum computing in simple terms.\"\n",
    "result = safe_gemini_chat_with_retries(user_prompt)\n",
    "print(result)\n"
   ]
  },
  {
   "cell_type": "markdown",
   "id": "1a7ff473",
   "metadata": {},
   "source": [
    "# Common Errors in Google AI Studio API\n",
    "\n",
    "When working with Google AI Studio API, you may encounter several common errors. Understanding these helps you debug and handle failures effectively.\n",
    "\n",
    "## 1. Authentication Errors\n",
    "- **Cause:** Invalid or missing API key.\n",
    "- **Symptoms:** 401 Unauthorized responses.\n",
    "- **Fix:** Verify and correctly set your API key with `genai.configure(api_key=\"YOUR_API_KEY\")`.\n",
    "\n",
    "## 2. Rate Limiting\n",
    "- **Cause:** Too many requests in a short period.\n",
    "- **Symptoms:** 429 Too Many Requests errors.\n",
    "- **Fix:** Implement retry with exponential backoff and respect API quotas.\n",
    "\n",
    "## 3. Network Errors\n",
    "- **Cause:** Connectivity issues or server downtime.\n",
    "- **Symptoms:** Timeout errors, connection refused.\n",
    "- **Fix:** Check your internet connection and retry requests.\n",
    "\n",
    "## 4. Invalid Request Errors\n",
    "- **Cause:** Malformed prompt or unsupported parameters.\n",
    "- **Symptoms:** 400 Bad Request errors.\n",
    "- **Fix:** Validate input data and parameter values before sending requests.\n",
    "\n",
    "## 5. Server Errors\n",
    "- **Cause:** Internal problems on Google AI Studio side.\n",
    "- **Symptoms:** 500 Internal Server Error.\n",
    "- **Fix:** Usually transient, retry after some delay.\n",
    "\n",
    "## 6. Quota Exceeded\n",
    "- **Cause:** API usage exceeds free or paid quota limits.\n",
    "- **Symptoms:** 403 Forbidden with quota messages.\n",
    "- **Fix:** Monitor usage, upgrade quota, or optimize requests.\n",
    "\n",
    "---\n",
    "\n",
    "### Tips for Handling Errors\n",
    "- Always wrap API calls in try-except blocks.\n",
    "- Log detailed error messages for debugging.\n",
    "- Implement retries with increasing wait times.\n",
    "- Provide user-friendly messages in your app.\n",
    "\n"
   ]
  },
  {
   "cell_type": "code",
   "execution_count": null,
   "id": "88dd5c5e",
   "metadata": {},
   "outputs": [],
   "source": []
  }
 ],
 "metadata": {
  "kernelspec": {
   "display_name": "awfera",
   "language": "python",
   "name": "python3"
  },
  "language_info": {
   "codemirror_mode": {
    "name": "ipython",
    "version": 3
   },
   "file_extension": ".py",
   "mimetype": "text/x-python",
   "name": "python",
   "nbconvert_exporter": "python",
   "pygments_lexer": "ipython3",
   "version": "3.10.16"
  }
 },
 "nbformat": 4,
 "nbformat_minor": 5
}
