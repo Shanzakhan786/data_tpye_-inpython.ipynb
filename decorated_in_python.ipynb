{
 "cells": [
  {
   "cell_type": "markdown",
   "metadata": {},
   "source": [
    "# **Lectures No 12 : Decorators In Python**"
   ]
  },
  {
   "cell_type": "markdown",
   "metadata": {},
   "source": [
    "# **1.What are Decorators?**"
   ]
  },
  {
   "cell_type": "markdown",
   "metadata": {},
   "source": [
    "In simple words **Decorators** are a powerful feature in Python that allows us to **extend or modify the behavior** of functions or methods without changing their actual code."
   ]
  },
  {
   "cell_type": "markdown",
   "metadata": {},
   "source": [
    "# **2. Key Features of Decorators:**\n",
    "\n",
    "Code Reu**sability**: Decorators allow you to reuse the same function logic in multiple places without repeating the code.\n",
    "\n",
    "Code **Readability**: They make the code cleaner by separating the core logic of a function and its enhancement logic (e.g., logging, authentication).\n",
    "\n",
    "\n",
    "**Use Cases**: Can be used for logging, authentication, function timing, and more"
   ]
  },
  {
   "cell_type": "markdown",
   "metadata": {},
   "source": [
    "# **3. Function as First-Class Citizen:**\n",
    "\n",
    "Functions can be used as **variables**, passed as **arguments** to other functions, and **returned** from functions."
   ]
  },
  {
   "cell_type": "markdown",
   "metadata": {},
   "source": [
    "# **Decorator Syntax:**\n",
    "\n"
   ]
  },
  {
   "cell_type": "markdown",
   "metadata": {},
   "source": [
    "## Define the Decorator Function:\n",
    "\n",
    "**. Assigned to Variables**: Functions can be assigned to variables like any other object\n",
    "\n",
    "**. Passed as Arguments**: Functions can be passed as arguments to other functions\n",
    "\n",
    "**. Returned from Functions**: Functions can be returned from other functions\n",
    "\n",
    "**How It Works:**\n",
    "\n",
    "When a function is passed to a decorator, its behavior is extended without modifying the original function."
   ]
  },
  {
   "cell_type": "code",
   "execution_count": 1,
   "metadata": {},
   "outputs": [
    {
     "name": "stdout",
     "output_type": "stream",
     "text": [
      "Hello\n"
     ]
    }
   ],
   "source": [
    "#Example: passing  function as argument\n",
    "\n",
    "def greet(name):\n",
    "    return \"Hello\"\n",
    "\n",
    "def call_func(func, name):\n",
    "    return func(name)\n",
    "\n",
    "print(call_func(greet, \"John\")) #Hello"
   ]
  },
  {
   "cell_type": "markdown",
   "metadata": {},
   "source": [
    "# **4. Basic Structure of a Decorator**"
   ]
  },
  {
   "cell_type": "markdown",
   "metadata": {},
   "source": [
    "Is A function that **Wraps** another function to **modify its behaviour**\n",
    "\n",
    "**Syntax:**"
   ]
  },
  {
   "cell_type": "code",
   "execution_count": null,
   "metadata": {},
   "outputs": [],
   "source": [
    "def decorator_function(original_function):\n",
    "    def wrapper_function():  # jis function ko modify krena h extand krena h support deni h usko wrapper function me rakhna h\n",
    "       # add ectra functionality\n",
    "        return original_function()\n",
    "    return wrapper_function"
   ]
  },
  {
   "cell_type": "markdown",
   "metadata": {},
   "source": [
    "**Example : A simple decorators that logs function calls**"
   ]
  },
  {
   "cell_type": "code",
   "execution_count": 19,
   "metadata": {},
   "outputs": [
    {
     "name": "stdout",
     "output_type": "stream",
     "text": [
      "Calling function: say_hello\n",
      "Hello, world!\n"
     ]
    }
   ],
   "source": [
    "# Define a decorator function that takes a function as an argument\n",
    "def log_decorator(func):\n",
    "  # Define a wrapper function that adds extra functionality\n",
    "  def wrapper():\n",
    "    print(f'Calling function: {func.__name__}')  # Print the name of the function being called\n",
    "    return func()  # Call the original function and return its result\n",
    "  return wrapper  # Return the wrapper function\n",
    "\n",
    "# Apply the decorator to the \"say_hello\" function using @log_decorator syntax\n",
    "@log_decorator\n",
    "def say_hello():\n",
    "    print(\"Hello, world!\")  # This function simply prints \"Hello, world!\"\n",
    "\n",
    "# Call the function with the decorator applied\n",
    "say_hello()"
   ]
  },
  {
   "cell_type": "markdown",
   "metadata": {},
   "source": [
    "# **5. Using multiple Deocrators**"
   ]
  },
  {
   "cell_type": "code",
   "execution_count": null,
   "metadata": {},
   "outputs": [
    {
     "name": "stdout",
     "output_type": "stream",
     "text": [
      " Recording Patient detalis: John Doe\n",
      "Consultation with John Doe is complete\n",
      "Consultation with John Doe took 2.0135817527770996 seconds\n"
     ]
    }
   ],
   "source": [
    "import time # Importing time module to measure execution time\n",
    "\n",
    "# Decorator to log patient details before consultation\n",
    "def log_patient_details(func):\n",
    "    def wrapper(patient_name):\n",
    "        print(f\" Recording Patient detalis: {patient_name}\")\n",
    "        return func(patient_name) # Call the original function\n",
    "    return wrapper\n",
    "\n",
    "# Decorator to measure execution time of the consultation\n",
    "def timer_decorates(func):\n",
    "    def wrapper(patient_name):\n",
    "        start_time = time.time() # Start time\n",
    "        result = func(patient_name) # Call the original function\n",
    "        end = time.time() # End time\n",
    "        print(f\"Consultation with {patient_name} took {end - start_time} seconds\")\n",
    "    return wrapper\n",
    "\n",
    "#appling decorators to the consultation function\n",
    "@log_patient_details #first decorator\n",
    "@timer_decorates #second decorator\n",
    "def decorator_consultation(patient_name):\n",
    "    time.sleep(2) # Simulate consultation time\n",
    "    print(f\"Consultation with {patient_name} is complete\")\n",
    "\n",
    "#Simulate a consultation with a patient\n",
    "decorator_consultation(\"John Doe\") # Call the decorated function with a patient name"
   ]
  },
  {
   "cell_type": "markdown",
   "metadata": {},
   "source": [
    "# **Passing the Arguments**"
   ]
  },
  {
   "cell_type": "markdown",
   "metadata": {},
   "source": [
    "A decorator can take arguments, for example, to repeat a function multiple times:\n",
    "\n",
    "@repeat(3)\n",
    "\n",
    "def greet():\n",
    "\n",
    "    print('Hello!')\n",
    "\n",
    " "
   ]
  },
  {
   "cell_type": "code",
   "execution_count": null,
   "metadata": {},
   "outputs": [
    {
     "name": "stdout",
     "output_type": "stream",
     "text": [
      "Hello, world!\n",
      "Hello, world!\n",
      "Hello, world!\n"
     ]
    }
   ],
   "source": [
    "#outer function that takes a function as paeameter times(how many time to repeat)\n",
    "def repeat(times): \n",
    "    #inner function that takes a function as parameter\n",
    "    def decorator(func):\n",
    "        # Wrapper function that modifys the behavior \n",
    "        def wrapper(*args, **kwargs): #args and kwargs are used to pass arguments to the function using * means mutiple variable arguments\n",
    "            for _ in range(times): #loop times number of times\n",
    "                func(*args, **kwargs) # Call the original function\n",
    "        return wrapper # Return the wrapper function\n",
    "    return decorator # Return the decorator function\n",
    "\n",
    "#Apply the decorator to a function using the @ syntax\n",
    "@repeat(3) # Repeat the function 3 times\n",
    "def greet():\n",
    "    print(\"Hello, world!\")\n",
    "# calling 'greet()' function will now repeat 3 times\n",
    "greet() # Call the decorated function"
   ]
  },
  {
   "cell_type": "markdown",
   "metadata": {},
   "source": [
    "# **Best Practices for Decorators:**\n",
    "\n",
    "**. Use decorators to extend functionality without modifying the original code..**\n",
    "\n",
    "**. Preserve function metadata using functools.wraps().** **(a data asscoiated with data )**\n",
    "\n",
    "**. Avoid unnecessary nesting of decorators to keep the code readable and maintainable**"
   ]
  },
  {
   "cell_type": "markdown",
   "metadata": {},
   "source": [
    "## **Conclusion:**\n",
    "\n",
    "**Decorators provide a clean, reusable way to add additional functionality to functions, such as logging or timing, without changing the core function.**\n",
    "\n",
    "**They are an essential concept for writing cleaner, more modular code in Python, especially when the same functionality needs to be applied to multiple functions.**\n"
   ]
  }
 ],
 "metadata": {
  "kernelspec": {
   "display_name": "awfera",
   "language": "python",
   "name": "python3"
  },
  "language_info": {
   "codemirror_mode": {
    "name": "ipython",
    "version": 3
   },
   "file_extension": ".py",
   "mimetype": "text/x-python",
   "name": "python",
   "nbconvert_exporter": "python",
   "pygments_lexer": "ipython3",
   "version": "3.10.16"
  }
 },
 "nbformat": 4,
 "nbformat_minor": 2
}
