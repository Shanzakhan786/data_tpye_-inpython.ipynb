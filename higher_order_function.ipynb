{
 "cells": [
  {
   "cell_type": "markdown",
   "metadata": {},
   "source": [
    "# Lectures No: 11 Practices \n"
   ]
  },
  {
   "cell_type": "markdown",
   "metadata": {},
   "source": [
    "# **1. What is higher Order Function ?**"
   ]
  },
  {
   "cell_type": "markdown",
   "metadata": {},
   "source": [
    "In Python , the function take another **function as an argument or return a function as a result**. This is known as **a higher-order function.**\n",
    "\n",
    "these help make code more readable and efficient."
   ]
  },
  {
   "cell_type": "markdown",
   "metadata": {},
   "source": [
    "# Common Higher Order Function:"
   ]
  },
  {
   "cell_type": "markdown",
   "metadata": {},
   "source": [
    "**. map()**:Applies a function to every item in an iterable\n",
    "\n",
    ". **filter( )** : filter elements based on a condition.\n",
    "\n",
    "**. reduce()** : Reduces a sequence to a single value.\n",
    "\n",
    "**. zip()** : combines multiples iterables into tuples.\n",
    "\n",
    "**. enmuerate()** : Adds an index to an iterable"
   ]
  },
  {
   "cell_type": "markdown",
   "metadata": {},
   "source": [
    "# **2. Understanding map() Function:**\n",
    "\n",
    "The **map() function** applies to a given functon to **each items** in an iterable (like list or tuple) return an iterator with \n",
    "the transformed values"
   ]
  },
  {
   "cell_type": "markdown",
   "metadata": {},
   "source": [
    "## **Syntax:**\n",
    "\n",
    "**map(function, iterable)**\n",
    "\n",
    "**Example : may() Apply in a function to double each number in a list.**"
   ]
  },
  {
   "cell_type": "code",
   "execution_count": 1,
   "metadata": {},
   "outputs": [
    {
     "name": "stdout",
     "output_type": "stream",
     "text": [
      "[2, 4, 6, 8, 10]\n"
     ]
    }
   ],
   "source": [
    "#Function to double the value of a number\n",
    "def double_value(x):\n",
    "    return x * 2\n",
    "\n",
    "#Using map() to apply the function to a list of numbers\n",
    "numbers = [1, 2, 3, 4, 5]\n",
    "doubled_numbers = list(map(double_value, numbers))\n",
    "print(doubled_numbers)  # Output: [2, 4, 6, 8, 10]\n"
   ]
  },
  {
   "cell_type": "markdown",
   "metadata": {},
   "source": [
    "# **3. Understanding filter() Function:**"
   ]
  },
  {
   "cell_type": "markdown",
   "metadata": {},
   "source": [
    "The **filter()** function filters element in an iterable based on  given condition and returns only the elements that satisfy that\n",
    "condition"
   ]
  },
  {
   "cell_type": "markdown",
   "metadata": {},
   "source": [
    "**Syntax:**\n",
    "\n",
    "filter(function , iterable)\n",
    "\n"
   ]
  },
  {
   "cell_type": "markdown",
   "metadata": {},
   "source": [
    "##  Example : Filtering even numbers from a list"
   ]
  },
  {
   "cell_type": "code",
   "execution_count": 2,
   "metadata": {},
   "outputs": [
    {
     "name": "stdout",
     "output_type": "stream",
     "text": [
      "[2, 4]\n"
     ]
    }
   ],
   "source": [
    "#Function to check if a number is even\n",
    "def is_even(x):\n",
    "    return x % 2 == 0\n",
    "\n",
    "#Using filter() to apply the function to a list of numbers\n",
    "numbers = [1, 2, 3, 4, 5]\n",
    "even_numbers = list(filter(is_even, numbers))\n",
    "print(even_numbers)  # Output: [2, 4]"
   ]
  },
  {
   "cell_type": "markdown",
   "metadata": {},
   "source": [
    "# **4. Understanding reduce() Function:**"
   ]
  },
  {
   "cell_type": "markdown",
   "metadata": {},
   "source": [
    "The **reduce()** function reduce an iterable into a **single valur** by the apply on function"
   ]
  },
  {
   "cell_type": "markdown",
   "metadata": {},
   "source": [
    "**Syntax:**\n",
    "\n",
    "reduce(function, iterable)\n",
    "\n",
    "**Example : Finding the product of all numbers in a list.**"
   ]
  },
  {
   "cell_type": "code",
   "execution_count": 4,
   "metadata": {},
   "outputs": [
    {
     "name": "stdout",
     "output_type": "stream",
     "text": [
      "15\n",
      "120\n"
     ]
    }
   ],
   "source": [
    "from functools import reduce #first importing reduce from functools\n",
    "#Function to add two numbers\n",
    "def add(x, y):\n",
    "    return x + y\n",
    "\n",
    "#Using reduce() to apply the function to a list of numbers\n",
    "numbers = [1, 2, 3, 4, 5]\n",
    "sum_of_numbers = reduce(add, numbers)\n",
    "print(sum_of_numbers)  # Output: 15\n",
    "\n",
    "#using multiple functions in a single line\n",
    "def multiple(x, y):\n",
    "    return x * y\n",
    "\n",
    "numbers = [1, 2, 3, 4, 5]\n",
    "product = reduce(multiple, numbers)\n",
    "print(product)  # Output: 120 \n"
   ]
  },
  {
   "cell_type": "markdown",
   "metadata": {},
   "source": [
    "# **5. Understanding Zin() Function :**"
   ]
  },
  {
   "cell_type": "markdown",
   "metadata": {},
   "source": [
    "The **zip() function** combines multiple iterable **element-wise** into tuples. (pairs in tuple with two list)"
   ]
  },
  {
   "cell_type": "markdown",
   "metadata": {},
   "source": [
    "**Syntax:**\n",
    "\n",
    "zip(iterable1 , iterable2....)\n",
    "\n",
    "**Example : pairing name and ages using zip()**"
   ]
  },
  {
   "cell_type": "code",
   "execution_count": 5,
   "metadata": {},
   "outputs": [
    {
     "name": "stdout",
     "output_type": "stream",
     "text": [
      "[(1, 'a'), (2, 'b'), (3, 'c')]\n"
     ]
    }
   ],
   "source": [
    "#Using Zip() to combine two lists into a list of tuples\n",
    "list1 = [1, 2, 3]\n",
    "list2 = ['a', 'b', 'c']\n",
    "zipped_list = list(zip(list1, list2))\n",
    "print(zipped_list)  # Output: [(1, 'a'), (2, 'b'), (3, 'c')]"
   ]
  },
  {
   "cell_type": "markdown",
   "metadata": {},
   "source": [
    "# **6.Understanding enmuerate Function:**\n"
   ]
  },
  {
   "cell_type": "markdown",
   "metadata": {},
   "source": [
    "The **enmuerate()** function add an **index** to an iterable , making it eaise to  **track element poistion (changing it)**"
   ]
  },
  {
   "cell_type": "markdown",
   "metadata": {},
   "source": [
    "**Syntax:**\n",
    "\n",
    "enmuerate(iterable , start= 0)\n",
    "\n",
    "**Example : Using enmuerate to get index and value from a list**"
   ]
  },
  {
   "cell_type": "code",
   "execution_count": 7,
   "metadata": {},
   "outputs": [
    {
     "name": "stdout",
     "output_type": "stream",
     "text": [
      "1 apple\n",
      "2 banana\n",
      "3 cherry\n"
     ]
    }
   ],
   "source": [
    "#Using enumerate() to get the index and value of each element in a list\n",
    "fruits = ['apple', 'banana', 'cherry']\n",
    "for index, value in enumerate(fruits , start= 1):  #using index and value in enumerate\n",
    "    print(index, value)  # Output: 0 apple, 1 banana, 2 cherry"
   ]
  },
  {
   "cell_type": "markdown",
   "metadata": {},
   "source": [
    "# **7. Best pratices Using for higher order Function**\n",
    "   "
   ]
  },
  {
   "cell_type": "markdown",
   "metadata": {},
   "source": [
    "**.** Use **map()** and **filter()** for single operation but perfer list comprehension for this \n",
    "\n",
    "**.** Use **reduce()** only when necessary loops can be more readable.\n",
    "\n",
    ". Use **zip()** when u working multilpe lists.\n",
    "\n",
    ". Use **enumerate()** is using when adding indices in loops"
   ]
  }
 ],
 "metadata": {
  "kernelspec": {
   "display_name": "awfera",
   "language": "python",
   "name": "python3"
  },
  "language_info": {
   "codemirror_mode": {
    "name": "ipython",
    "version": 3
   },
   "file_extension": ".py",
   "mimetype": "text/x-python",
   "name": "python",
   "nbconvert_exporter": "python",
   "pygments_lexer": "ipython3",
   "version": "3.10.16"
  }
 },
 "nbformat": 4,
 "nbformat_minor": 2
}
