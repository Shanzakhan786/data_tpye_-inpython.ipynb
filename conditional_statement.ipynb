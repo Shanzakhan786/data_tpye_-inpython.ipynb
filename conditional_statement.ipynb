{
 "cells": [
  {
   "cell_type": "markdown",
   "metadata": {},
   "source": [
    "# Lectures No :07 Python Practices\n",
    "\n"
   ]
  },
  {
   "cell_type": "markdown",
   "metadata": {},
   "source": [
    "# Why Do We Need Conditional Statements?\n",
    "\n",
    "Conditional statements are used to make decisions in a program based on specific conditions. They allow the program to execute different blocks of code depending on whether a condition is true or false."
   ]
  },
  {
   "cell_type": "markdown",
   "metadata": {},
   "source": [
    "# Real-Life Examples:\n",
    "\n",
    "If it rains, take an umbrella.\n",
    "\n",
    "If the traffic light is green, drive; if it is red, stop.\n",
    "\n",
    "If the user enters the correct password, allow login; otherwise, deny access.\n",
    "\n",
    "Key Insight: Conditional statements change the sequence of program execution based on conditions."
   ]
  },
  {
   "cell_type": "markdown",
   "metadata": {},
   "source": [
    "# 2. Basic Conditional Statements\n",
    "\n",
    "Python provides three main conditional statements:\n",
    "\n",
    ". if\n",
    "\n",
    ". else\n",
    "\n",
    ". elif"
   ]
  },
  {
   "cell_type": "markdown",
   "metadata": {},
   "source": [
    "## **if Statement**\n",
    "\n",
    "## Syntax:\n",
    "\n",
    "if condition:\n",
    "\n",
    "    # Code to execute if the condition is true"
   ]
  },
  {
   "cell_type": "markdown",
   "metadata": {},
   "source": [
    " # Important Notes: How if-elif-else evaluates condition\n",
    "\n",
    "its structure works by one by one in a sequence . Each condition must ultimately reslove to either True or False\n",
    "\n",
    "1.if a condition iss True : it executes that block and skips the rest of the if-elif-else block\n",
    "\n",
    "2.if condition is False :  the else block execute (if present)\n",
    "\n",
    "3.only one condition is executed in an if-elif-else chain"
   ]
  },
  {
   "cell_type": "code",
   "execution_count": 1,
   "metadata": {},
   "outputs": [
    {
     "name": "stdout",
     "output_type": "stream",
     "text": [
      "You can go!\n"
     ]
    }
   ],
   "source": [
    "#Trafice lights example: controlling Trafice lights based on light colors\n",
    "\n",
    "#Define the traffic light colors\n",
    "traffic_light_colors = \"Green\"\n",
    "\n",
    "#Check the condition of the traffic light\n",
    "if traffic_light_colors == \"Green\":\n",
    "    print(\"You can go!\") #if the light is green, you can go"
   ]
  },
  {
   "cell_type": "markdown",
   "metadata": {},
   "source": [
    "# **else Statement**\n",
    "\n",
    "## Syntax:\n",
    "\n",
    "if condition:\n",
    "\n",
    "    # Code to execute if the condition is true\n",
    "\n",
    "else:\n",
    "\n",
    "    # Code to execute if the condition is false"
   ]
  },
  {
   "cell_type": "code",
   "execution_count": 2,
   "metadata": {},
   "outputs": [
    {
     "name": "stdout",
     "output_type": "stream",
     "text": [
      "You must stop!\n"
     ]
    }
   ],
   "source": [
    "#traffic light Example : shopping or going based on the light color\n",
    "\n",
    "#defone the traffic light colors\n",
    "traffic_light_colors = \"Red\"\n",
    "\n",
    "#Check the condition of the traffic light\n",
    "if traffic_light_colors == \"Green\":\n",
    "    print(\"You can go!\") #if the light is green, you can go\n",
    "else:\n",
    "    print(\"You must stop!\") #if the light is red, you must stop\n"
   ]
  },
  {
   "cell_type": "markdown",
   "metadata": {},
   "source": [
    "# elif Statement\n",
    "\n",
    "## Syntax:\n",
    "\n",
    "\n",
    "if condition1:\n",
    "\n",
    "\n",
    "    # Code to execute if condition1 is true\n",
    "\n",
    "elif condition2:\n",
    "\n",
    "\n",
    "    # Code to execute if condition2 is true\n",
    "\n",
    "\n",
    "else:\n",
    "\n",
    "    # Code to execute if all conditions are false"
   ]
  },
  {
   "cell_type": "code",
   "execution_count": null,
   "metadata": {},
   "outputs": [
    {
     "name": "stdout",
     "output_type": "stream",
     "text": [
      "You should slow down!\n"
     ]
    }
   ],
   "source": [
    "#Traffic light Example: Handing differnt lights sindgle\n",
    "\n",
    "#define the traffic light colors\n",
    "traffic_light_colors = \"Yellow\"\n",
    "\n",
    "#check the condition of the traffic ligh\n",
    "if traffic_light_colors == \"Green\":\n",
    "    print(\"You can go!\") #if the light is green, you can go\n",
    "elif traffic_light_colors == \"Red\":\n",
    "    print(\"You must stop!\") #if the light is Red, you must stop\n",
    "else:\n",
    "    print(\"You should slow down!\") #if the light is yellow, you must slow down\n",
    "\n",
    "#when you using check small letter or exactly the same letter but in capital there is a difference b/etween them give no output\n",
    "# case sensitive upper and lower case"
   ]
  },
  {
   "cell_type": "markdown",
   "metadata": {},
   "source": [
    "# 4. Logical Operators in Conditional Statements\n",
    "## \n",
    "Logical operators (and, or, not) are used to combine multiple conditions."
   ]
  },
  {
   "cell_type": "markdown",
   "metadata": {},
   "source": [
    "## Using If Statments:\n",
    "\n",
    "its allow to combine multiple condition\n",
    "\n",
    "1. and -Returns True if both condition are True\n",
    "2. or-Returns True if AT least one condition is True\n",
    "3. not-Returns Reverses the condition"
   ]
  },
  {
   "cell_type": "code",
   "execution_count": 6,
   "metadata": {},
   "outputs": [
    {
     "name": "stdout",
     "output_type": "stream",
     "text": [
      " predesttrain should waite!\n"
     ]
    }
   ],
   "source": [
    "#Traffic light Example using AND :Checking if pedestrian  can cross safely\n",
    "\n",
    "#define the predestrian single status\n",
    "predestrian_single = \"Flashing\"\n",
    "\n",
    "#Check the condition of the traffic light\n",
    "if predestrian_single == \"Walk\" and predestrian_single != \"Flashing\":\n",
    "    print(\"You can cross safely!\") #if the single is walk and and not flashing, you can cross safely\n",
    "else:\n",
    "    print(\" predesttrain should waite!\") #if the single is not walk or flashing, you should wait"
   ]
  },
  {
   "cell_type": "code",
   "execution_count": 10,
   "metadata": {},
   "outputs": [
    {
     "name": "stdout",
     "output_type": "stream",
     "text": [
      "You must stop!\n"
     ]
    }
   ],
   "source": [
    "#Traffic light Example using OR: emengeny Allowing  Viehicles of Amlbulance\n",
    "\n",
    "#define the traffic light colors\n",
    "traffic_light_colors = \"Red\"\n",
    "\n",
    "#Define the vehicle type\n",
    "vehicle_type = \"Abulance\"\n",
    "\n",
    "#Check the lights is green OR the vehicle is an ambulance\n",
    "if traffic_light_colors == \"Green\" or vehicle_type == \"Ambulance\":\n",
    "    print(\"You can go!\") #if the light is green or the vehicle is an ambulance, you can go\n",
    "else:\n",
    "    print(\"You must stop!\") #if the light is red and the vehicle is not an ambulance, you must stop "
   ]
  },
  {
   "cell_type": "code",
   "execution_count": 11,
   "metadata": {},
   "outputs": [
    {
     "name": "stdout",
     "output_type": "stream",
     "text": [
      "Do not cross!\n"
     ]
    }
   ],
   "source": [
    "#Traffic light Example using NOT: Ensuring no authorized crossing\n",
    "\n",
    "#Define the predestrian status single\n",
    "predestrian_single = \"Don't Walk\"\n",
    "\n",
    "#Check if the predestrian should not cross\n",
    "if predestrian_single != \"Walk\":\n",
    "    print(\"Do not cross!\") #if the single is not walk, predistrain must wait\n",
    "else:\n",
    "    print(\"You can cross safely!\") #if the single is walk, predistrain can cross safely"
   ]
  },
  {
   "cell_type": "markdown",
   "metadata": {},
   "source": [
    "# Nested Conditions:\n",
    "# \n",
    "Sometime decision depend on multiples level of conditons. We can nest if statments inside other if statements"
   ]
  },
  {
   "cell_type": "code",
   "execution_count": 22,
   "metadata": {},
   "outputs": [
    {
     "name": "stdout",
     "output_type": "stream",
     "text": [
      "wearning! Please wear your saetbelt\n"
     ]
    }
   ],
   "source": [
    "#Example: Traffic light system with multiple conditions :which is checking traffic rules compliance\n",
    "\n",
    "#define the speed of the car(in km/h)\n",
    "car_speed = 60\n",
    " \n",
    "#define wheter the driver is wearning a seatbelt\n",
    "seatbelt_on = False\n",
    "if car_speed <= 60: #check speed limit check\n",
    "    if seatbelt_on:\n",
    "        print(\"you are driving safely\")\n",
    "    else:\n",
    "        print(\"wearning! Please wear your saetbelt\")\n",
    "else:\n",
    "    print(\" Slow down you are execeding the speed\")"
   ]
  },
  {
   "cell_type": "code",
   "execution_count": 43,
   "metadata": {},
   "outputs": [
    {
     "name": "stdout",
     "output_type": "stream",
     "text": [
      "you can go road is clear\n"
     ]
    }
   ],
   "source": [
    "#Traffice Example :Managing traffic fllow at an intersection\n",
    "\n",
    "#Define the traffic light clors\n",
    "traffic_light_colors = \"Green\"\n",
    "\n",
    "#Define weather the road is clear\n",
    "road_clear = True\n",
    "\n",
    "#Checking the traffic conditions\n",
    "if traffic_light_colors==\"Green\":\n",
    "    #nasted condition if the road is clear\n",
    "    if road_clear:\n",
    "      print(\"you can go road is clear\")\n",
    "    else:\n",
    "        print( \"wait the road is not clear, even though the eight is green\")\n",
    "elif traffic_light_colors ==\"Yellow\":\n",
    "    print(\"slow sone and perspace to stop\")\n",
    "else:\n",
    " print(\"you must stop\")"
   ]
  }
 ],
 "metadata": {
  "kernelspec": {
   "display_name": "awfera",
   "language": "python",
   "name": "python3"
  },
  "language_info": {
   "codemirror_mode": {
    "name": "ipython",
    "version": 3
   },
   "file_extension": ".py",
   "mimetype": "text/x-python",
   "name": "python",
   "nbconvert_exporter": "python",
   "pygments_lexer": "ipython3",
   "version": "3.10.16"
  }
 },
 "nbformat": 4,
 "nbformat_minor": 2
}
