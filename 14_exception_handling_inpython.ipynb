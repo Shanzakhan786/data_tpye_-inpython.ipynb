{
 "cells": [
  {
   "cell_type": "markdown",
   "id": "76a0f4fe",
   "metadata": {},
   "source": [
    "# **Lecture No # 14 Pyhton Coures**\n",
    "\n",
    "# **Topic: Exception Handling**"
   ]
  },
  {
   "cell_type": "markdown",
   "id": "2df89c5b",
   "metadata": {},
   "source": [
    "## 1. what is Exception Handling Inpython? \n",
    "\n",
    "\n",
    "\n",
    "**Definition**: it allows programs to **handle an errors gracefully** instead of crashing. it ensures the program continues to run\n",
    " even if an error occurs."
   ]
  },
  {
   "cell_type": "markdown",
   "id": "3841a0c4",
   "metadata": {},
   "source": [
    "## **2. Whay Do we need Exception handling?**\n",
    "\n",
    "Imagine you're using an **ATM to withdraw** money. You insert your card, enter your PIN, and request to withdraw $100. The ATM checks your account balance and finds that you have sufficient funds. It then dispenses the cash and updates.\n",
    "\n",
    "\n",
    "**.** if you enter a **negative number** the system shouldn't crash.\n",
    "\n",
    "**.** instead , it should **handle the situation** and **ask you** to enter a **valid number.**"
   ]
  },
  {
   "cell_type": "markdown",
   "id": "50e25068",
   "metadata": {},
   "source": [
    "# **3. Types of Errors in Pyhton?**\n",
    "\n",
    "Pyhton has two types of errors:\n",
    "\n",
    "### 1. **Syntax Error: (Parsing Errors)**\n",
    "\n",
    "**.** These errors occur when the python interpreter cannot understand the syntax of the code due to incorrect or missing syntax.\n",
    "\n",
    "**.** these are detected **before excetion**\n",
    "\n",
    "**.** **For example**, if you have a missing colon at the end of a line."
   ]
  },
  {
   "cell_type": "markdown",
   "id": "ae665458",
   "metadata": {},
   "source": [
    "### **2. RunTime Errors(Exceptions):**\n",
    "\n",
    ". These occure when the **program is running** and an error occurs that prevents the program from continuing to run.\n",
    "\n",
    ". The syntax is correct but something **unexpected happens** during exection such as division by zero **undefined variable**.\n",
    "\n",
    "### **Using** **try/except** block to handle runtime erros to prevent program crashes."
   ]
  },
  {
   "cell_type": "code",
   "execution_count": 12,
   "id": "825e8881",
   "metadata": {},
   "outputs": [
    {
     "ename": "SyntaxError",
     "evalue": "'(' was never closed (2430158507.py, line 3)",
     "output_type": "error",
     "traceback": [
      "\u001b[1;36m  Cell \u001b[1;32mIn[12], line 3\u001b[1;36m\u001b[0m\n\u001b[1;33m    print(\"Hello World\" # Missing closing paranthesis\u001b[0m\n\u001b[1;37m         ^\u001b[0m\n\u001b[1;31mSyntaxError\u001b[0m\u001b[1;31m:\u001b[0m '(' was never closed\n"
     ]
    }
   ],
   "source": [
    "# Syntax Error missing closing paranthesis\n",
    "\n",
    "print(\"Hello World\" # Missing closing paranthesis  \n",
    "\n",
    "print(\"Hello World\") # Corrected line\n"
   ]
  },
  {
   "cell_type": "code",
   "execution_count": null,
   "id": "4ecdd0ba",
   "metadata": {},
   "outputs": [
    {
     "ename": "ZeroDivisionError",
     "evalue": "division by zero",
     "output_type": "error",
     "traceback": [
      "\u001b[1;31m---------------------------------------------------------------------------\u001b[0m",
      "\u001b[1;31mZeroDivisionError\u001b[0m                         Traceback (most recent call last)",
      "Cell \u001b[1;32mIn[13], line 1\u001b[0m\n\u001b[1;32m----> 1\u001b[0m num \u001b[38;5;241m=\u001b[39m \u001b[38;5;241;43m5\u001b[39;49m\u001b[38;5;241;43m/\u001b[39;49m\u001b[38;5;241;43m0\u001b[39;49m \u001b[38;5;66;03m# ZeroDivisionError: division by zero\u001b[39;00m\n",
      "\u001b[1;31mZeroDivisionError\u001b[0m: division by zero"
     ]
    }
   ],
   "source": [
    "# Runtime Error division by zero\n",
    "num = 5/0 # ZeroDivisionError: division by zero "
   ]
  },
  {
   "cell_type": "markdown",
   "id": "34db106e",
   "metadata": {},
   "source": [
    "# **4. Basic try_except Structure**"
   ]
  },
  {
   "cell_type": "markdown",
   "id": "b0c73de0",
   "metadata": {},
   "source": [
    "### **How does try_except works?**\n",
    "\n",
    "The **try block** is used to enclose the code that might potentially raise an exception. The **except block** is used to handle the exception that is raised. If an exception is raised in the try block, the code in the except block is executed.\n",
    "\n",
    "**Example**: Below is a simple demonstration of using **try-except** in to handle errors"
   ]
  },
  {
   "cell_type": "code",
   "execution_count": 15,
   "id": "494a2c75",
   "metadata": {},
   "outputs": [
    {
     "name": "stdout",
     "output_type": "stream",
     "text": [
      "Error: Division by zero is not allowed.\n"
     ]
    }
   ],
   "source": [
    "try: \n",
    "    #Prompt user for input\n",
    "    num = int(input(\"Enter a number: \")) # User input\n",
    "    # Attempt to divide by zero \n",
    "    print(5/num) # This will raise a ZeroDivisionError if num is 0\n",
    "except ZeroDivisionError:\n",
    "    #handle the case the user enters 0\n",
    "    print(\"Error: Division by zero is not allowed.\")"
   ]
  },
  {
   "cell_type": "markdown",
   "id": "3bae028e",
   "metadata": {},
   "source": [
    "# **5. Handling Multiple Exceptions:**\n",
    "\n",
    "when different types of errors an occur, we can handle each separately using multiple except block.\n",
    "\n",
    "**Example**: The following code demonstrates how to handle both **ZeroDivisionError** and **TypeError exceptions:**"
   ]
  },
  {
   "cell_type": "code",
   "execution_count": 25,
   "id": "f31bf260",
   "metadata": {},
   "outputs": [
    {
     "name": "stdout",
     "output_type": "stream",
     "text": [
      "Error: Invalid input. Please enter a  number only.\n"
     ]
    }
   ],
   "source": [
    "try:\n",
    "    #Prompt user to enter the first number\n",
    "    num1 = int(input(\"Enter the first number: \")) # User input\n",
    "    #Prompt user to enter the second number\n",
    "    num2 = int(input(\"Enter the second number: \")) # User input\n",
    "    # Attempt to divide by zero first number into second number\n",
    "    result = num1 / num2 # This will raise a ZeroDivisionError if num2 is 0\n",
    "   #print the result of the division\n",
    "    print(\"Result:\", result) # This will print the result of the division\n",
    "except ZeroDivisionError:\n",
    "    #handle the case the user enters 0\n",
    "    print(\"Error: Division by zero is not allowed.\")\n",
    "except ValueError:\n",
    "    #handle the case the user enters  not a valid number\n",
    "    print(\"Error: Invalid input. Please enter a  number only.\") \n"
   ]
  },
  {
   "cell_type": "markdown",
   "id": "7bf70f77",
   "metadata": {},
   "source": [
    "# **6. Handling Generic Exceptions:**\n",
    "\n",
    "### **Catching Any Exception:**\n",
    "\n",
    "Somtime we don't know which error might occur.We can catch **any exception** using except Exception as \"e\"catching all exceptions should be used cautiously ,\n",
    "\n",
    "as it can hide important bugs\n",
    "\n",
    "**Example** : Below code will catch any exception that occurs during execution of the code inside the try block."
   ]
  },
  {
   "cell_type": "code",
   "execution_count": 28,
   "id": "3dcc239b",
   "metadata": {},
   "outputs": [
    {
     "name": "stdout",
     "output_type": "stream",
     "text": [
      "An error occurred: invalid literal for int() with base 10: 'k'\n"
     ]
    }
   ],
   "source": [
    "try:\n",
    "    # Code that may raise an exception\n",
    "    num = int(input(\"Enter a number: \")) # User input\n",
    "    result = 10 / num # This will raise a ZeroDivisionError if num is 0\n",
    "    print(\"Result:\", result) # This will print the result of the division\n",
    "except Exception as e: # Catch all exceptions\n",
    "    # Handle the exception\n",
    "    print(\"An error occurred:\", e)"
   ]
  },
  {
   "cell_type": "markdown",
   "id": "f14ce948",
   "metadata": {},
   "source": [
    "# **7. Using the finaly block:**"
   ]
  },
  {
   "cell_type": "markdown",
   "id": "441a49e9",
   "metadata": {},
   "source": [
    "The finally code block is also a part of exception handling.When we handle an exception using the try and except block,\n",
    "\n",
    "we include a finally block at the  he finally block is always exceuted ,so it is generaly used for doing with concluding closing file resources or closing database connectionn or may be ending\n",
    "the program exception with meaningful messages."
   ]
  },
  {
   "cell_type": "code",
   "execution_count": 29,
   "id": "5bd01598",
   "metadata": {},
   "outputs": [
    {
     "name": "stdout",
     "output_type": "stream",
     "text": [
      "Error: File not found.\n",
      "closing the file\n"
     ]
    },
    {
     "ename": "NameError",
     "evalue": "name 'file' is not defined",
     "output_type": "error",
     "traceback": [
      "\u001b[1;31m---------------------------------------------------------------------------\u001b[0m",
      "\u001b[1;31mNameError\u001b[0m                                 Traceback (most recent call last)",
      "Cell \u001b[1;32mIn[29], line 12\u001b[0m\n\u001b[0;32m      9\u001b[0m \u001b[38;5;28;01mfinally\u001b[39;00m:\n\u001b[0;32m     10\u001b[0m     \u001b[38;5;66;03m# the block rums no matter what\u001b[39;00m\n\u001b[0;32m     11\u001b[0m     \u001b[38;5;28mprint\u001b[39m(\u001b[38;5;124m\"\u001b[39m\u001b[38;5;124mclosing the file\u001b[39m\u001b[38;5;124m\"\u001b[39m)\n\u001b[1;32m---> 12\u001b[0m     \u001b[43mfile\u001b[49m\u001b[38;5;241m.\u001b[39mclose() \u001b[38;5;66;03m# Close the file if it was opened successfully\u001b[39;00m\n",
      "\u001b[1;31mNameError\u001b[0m: name 'file' is not defined"
     ]
    }
   ],
   "source": [
    "try:\n",
    "    # Attempt to open a file that may not exist\n",
    "    file = open (\"example,txt\", \"r\") # FileNotFoundError: [Errno 2] No such file or directory: 'example,txt'\n",
    "    # Read the contents of the file\n",
    "    content = file.read() # This will raise an IOError if the file cannot be read\n",
    "except FileNotFoundError:\n",
    "    # Handle the case where the file does not exist\n",
    "    print(\"Error: File not found.\")\n",
    "finally:\n",
    "    # the block rums no matter what\n",
    "    print(\"closing the file\")\n",
    "    file.close() # Close the file if it was opened successfully"
   ]
  },
  {
   "cell_type": "markdown",
   "id": "d61ceeae",
   "metadata": {},
   "source": [
    "# **8. Creating Custom Exceptions:**"
   ]
  },
  {
   "cell_type": "markdown",
   "id": "531219f4",
   "metadata": {},
   "source": [
    "We can define our own exceptions using the **raise keyword** when specific condition are not met\n",
    "\n",
    "**Example**: The following function raises a ValueError if a negative amount is entered.\n"
   ]
  },
  {
   "cell_type": "code",
   "execution_count": 31,
   "id": "c4c2d666",
   "metadata": {},
   "outputs": [
    {
     "name": "stdout",
     "output_type": "stream",
     "text": [
      "Error: Amount cannot be negative or zero.\n"
     ]
    }
   ],
   "source": [
    "def withdraw(amount):\n",
    "    # Check if the amount is valid\n",
    "    if amount <= 0:\n",
    "        raise ValueError(\"Amount cannot be negative or zero.\") # Raise a ValueError if the amount is invalid\n",
    "    # Perform the withdrawal operation\n",
    "    print(\"Withdrawing\", amount)\n",
    "try:\n",
    "    # Attempt to withdraw a negative amount\n",
    "    withdraw(-100) # This will raise a ValueError\n",
    "except ValueError as e:\n",
    "    # Handle the exception\n",
    "    print(\"Error:\", e)"
   ]
  }
 ],
 "metadata": {
  "kernelspec": {
   "display_name": "awfera",
   "language": "python",
   "name": "python3"
  },
  "language_info": {
   "codemirror_mode": {
    "name": "ipython",
    "version": 3
   },
   "file_extension": ".py",
   "mimetype": "text/x-python",
   "name": "python",
   "nbconvert_exporter": "python",
   "pygments_lexer": "ipython3",
   "version": "3.10.16"
  }
 },
 "nbformat": 4,
 "nbformat_minor": 5
}
