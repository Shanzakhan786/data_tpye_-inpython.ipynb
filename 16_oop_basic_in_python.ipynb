{
 "cells": [
  {
   "cell_type": "markdown",
   "id": "2bc1271f",
   "metadata": {},
   "source": [
    "# **AWFERA : python Coures**\n",
    "\n",
    "# **Lecture No 16**\n",
    "\n",
    "# **Topic : Basic of OOP and its implemention in Python**"
   ]
  },
  {
   "cell_type": "markdown",
   "id": "ffe5e8ab",
   "metadata": {},
   "source": [
    "# **OOPs  (Object-Oriented Programming System)** \n",
    "\n",
    "Is a programming paradigm based on the concept of \"**objects**,\" which can contain data (**fields or attributes**) \n",
    "and code (**methods or functions**). It helps in structuring code to be more reusable, scalable, and easier to maintain."
   ]
  },
  {
   "cell_type": "markdown",
   "id": "8179421a",
   "metadata": {},
   "source": [
    "**Example:**\n",
    "\n",
    "**1. A blueprint specifices that every house will have a door , window, and rooms.**\n",
    "\n",
    "**2.  However the blueprint itself is not a house--- it is just plan.**\n",
    "\n",
    "\n"
   ]
  },
  {
   "cell_type": "markdown",
   "id": "563ab6e9",
   "metadata": {},
   "source": [
    "# **What is class?**"
   ]
  },
  {
   "cell_type": "markdown",
   "id": "f3fe1c7f",
   "metadata": {},
   "source": [
    "A class is a b**lueprint** (Role Or Regularation) or template. It define the structure and behavior of future object. Contains attributes and \n",
    "\n",
    "methods but it does not represent actual object untill you create one."
   ]
  },
  {
   "cell_type": "markdown",
   "id": "2229e3c4",
   "metadata": {},
   "source": [
    "**Class Syntax:**\n",
    "\n",
    "1. Use the class keyword.\n",
    "\n",
    "2. capitalize class names by convention."
   ]
  },
  {
   "cell_type": "code",
   "execution_count": 1,
   "id": "505caf79",
   "metadata": {},
   "outputs": [],
   "source": [
    "class House:\n",
    "    pass"
   ]
  },
  {
   "cell_type": "markdown",
   "id": "3b255da6",
   "metadata": {},
   "source": [
    "# **Object = Instance of a class**"
   ]
  },
  {
   "cell_type": "markdown",
   "id": "6bcc00b6",
   "metadata": {},
   "source": [
    "An **object** is a specific instance of a class. When You create an object, you are essentially building \n",
    "something based on the blueprint (class).\n",
    "\n",
    "**For Example:**\n",
    "\n",
    "  .  if the class is a blueprint for a house , the object is the actual house built from that blueprint.\n",
    "\n",
    "  .  Each object can have its own unique properties(color, size) while following the structure defined by class.\n",
    "\n",
    "In Python, You create an object by calling the class as if it were a function. This proces is called **instantiation**."
   ]
  },
  {
   "cell_type": "markdown",
   "id": "af5e5075",
   "metadata": {},
   "source": [
    "**Syntax:**"
   ]
  },
  {
   "cell_type": "code",
   "execution_count": 2,
   "id": "27a5f1f1",
   "metadata": {},
   "outputs": [],
   "source": [
    "my_house = House()"
   ]
  },
  {
   "cell_type": "markdown",
   "id": "7e3c386d",
   "metadata": {},
   "source": [
    "# **Attributes = Object's Data**"
   ]
  },
  {
   "cell_type": "markdown",
   "id": "8dbb2164",
   "metadata": {},
   "source": [
    "An **Attributes** are the data stored inside an object . They represent the state or **properties** of the object.\n",
    "\n",
    "**For Example:**\n",
    "\n",
    "   . if the object is a car , attributes could be its **color**, **brand or year**.\n",
    "\n",
    "   . Each object can have different values for these  attributes.\n",
    "\n",
    "in Python, attributes are typically defined in the  ___init__  method of a class."
   ]
  },
  {
   "cell_type": "code",
   "execution_count": null,
   "id": "9472cfb9",
   "metadata": {},
   "outputs": [
    {
     "name": "stdout",
     "output_type": "stream",
     "text": [
      "blue\n"
     ]
    }
   ],
   "source": [
    "# Example\n",
    "class House:\n",
    "     # The constructor (__init__) method initializes the attributes of the object\n",
    "    def __init__(self, color, size): \n",
    "        self.color = color # attributes to store the color of the house\n",
    "        self.size = size  # attributes to store the size of the house\n",
    "\n",
    "#  Create an object of the House class with specific colore and size\n",
    "my_house = House(\"blue\", \"large\")\n",
    "\n",
    "#Print the color and size of the house\n",
    "print(my_house.color)  # Output: blue"
   ]
  },
  {
   "cell_type": "markdown",
   "id": "4427d4f3",
   "metadata": {},
   "source": [
    "# **Methods = Object's Behavior**"
   ]
  },
  {
   "cell_type": "markdown",
   "id": "7bb9b4ad",
   "metadata": {},
   "source": [
    "Methods defined the **behavior** of an object .They are function defined inside a class and are used to perform actions using \n",
    "\n",
    "object's data.\n",
    "\n",
    "**For Example:**\n",
    "\n",
    "**.**   If the object is a car , a method could be **drive()** or **stop()**.\n",
    "\n",
    " Method allow objects to interact with their data and perform specific tasks.\n",
    "\n",
    "In pyton methods are defined like regular functions but always take **self** as their first parameter which represent inthe class. "
   ]
  },
  {
   "cell_type": "code",
   "execution_count": 7,
   "id": "e593823d",
   "metadata": {},
   "outputs": [
    {
     "data": {
      "text/plain": [
       "<bound method House.describe of <__main__.House object at 0x00000155DB7F97E0>>"
      ]
     },
     "execution_count": 7,
     "metadata": {},
     "output_type": "execute_result"
    }
   ],
   "source": [
    "class House:\n",
    "    # The constructor (__init__) method initializes the attributes of the object\n",
    "    def __init__(self, color, size):\n",
    "        self.color = color # attributes to store the color of the house\n",
    "        self.size = size # attributes to store the size of the house\n",
    "    # Method to describe the house\n",
    "    def describe(self):\n",
    "        print(f\"This house is {self.color} and {self.size}.\")\n",
    "\n",
    "# Create an object of the house class with specifice color and size\n",
    "my_house = House(\"blue\", \"large\") \n",
    "\n",
    "# Call the describe method to print the description of the house  \n",
    "my_house.describe  # Output: This house is blue and large."
   ]
  },
  {
   "cell_type": "markdown",
   "id": "55a3d3db",
   "metadata": {},
   "source": [
    "## Constructor(___init__) : Method (function)\n",
    "Apny kabhi na kabhi game ko khala hogi us game ma ak new character ky saath lifeline, power ,name by default  assciated hota ha.\n",
    "\n",
    "basicaly constructor jb be new instance create hoga us ky saath attributs attach hongy.\n",
    "\n",
    "The __init__ method is a soecial mentod in pyhton classes. it is calles automatically , when an object is created from a class method is used to initialize the attributes of the object.\n",
    "\n"
   ]
  },
  {
   "cell_type": "markdown",
   "id": "effc25fb",
   "metadata": {},
   "source": [
    "**For Example**\n",
    "\n",
    "**.**  if you are creating a car obect the __init__ menthod can be used to set its color and brand . when the object is created.\n",
    "\n",
    "In Pyhton , the ___init__ method is defined as : "
   ]
  },
  {
   "cell_type": "code",
   "execution_count": 8,
   "id": "c1dc3b76",
   "metadata": {},
   "outputs": [
    {
     "name": "stdout",
     "output_type": "stream",
     "text": [
      "blue large\n"
     ]
    }
   ],
   "source": [
    "class House:\n",
    "    # The constructor (__init__) method initializes the attributes of the object\n",
    "    def __init__(self, color, size):\n",
    "        self.color = color # attributes to store the color of the house\n",
    "        self.size = size # attributes to store the size of the house\n",
    "    \n",
    "# Create an object of the house class with specifice color and size\n",
    "my_house = House(\"blue\", \"large\")\n",
    "\n",
    "# Print the color and size of the house\n",
    "print(my_house.color , my_house.size)  # Output: blue large"
   ]
  },
  {
   "cell_type": "markdown",
   "id": "3e30a437",
   "metadata": {},
   "source": [
    "# **Some Exerices Of OOP**"
   ]
  },
  {
   "cell_type": "markdown",
   "id": "f364c047",
   "metadata": {},
   "source": [
    "# **1. Create  a Simple class and object**"
   ]
  },
  {
   "cell_type": "markdown",
   "id": "e6a55667",
   "metadata": {},
   "source": [
    "create a python class named **Person** with toe attributes **name** and **age**  create an ooject of this class and print the name and age of person"
   ]
  },
  {
   "cell_type": "markdown",
   "id": "31393bbd",
   "metadata": {},
   "source": [
    " **Example Output**\n",
    "\n",
    "Name : Alice\n",
    "\n",
    "Age : 30"
   ]
  },
  {
   "cell_type": "code",
   "execution_count": 10,
   "id": "8d62a945",
   "metadata": {},
   "outputs": [
    {
     "name": "stdout",
     "output_type": "stream",
     "text": [
      "Name: Alice\n",
      "Age: 25\n"
     ]
    }
   ],
   "source": [
    "#Example:\n",
    "class Person:\n",
    "    def __init__(self, name, age):\n",
    "        self.name = name\n",
    "        self.age = age\n",
    "\n",
    "# Create an object of the class\n",
    "person1 = Person(\"Alice\", 25)\n",
    "\n",
    "# Print the name and age\n",
    "print(\"Name:\", person1.name)\n",
    "print(\"Age:\", person1.age)\n",
    "\n"
   ]
  },
  {
   "cell_type": "markdown",
   "id": "6329e615",
   "metadata": {},
   "source": [
    "# **2. Add A Method to a Class:**\n",
    "\n",
    "Extent the Person class by adding a method called greet() that a points a greeting messages including the person name"
   ]
  },
  {
   "cell_type": "code",
   "execution_count": 11,
   "id": "c37adb7c",
   "metadata": {},
   "outputs": [
    {
     "name": "stdout",
     "output_type": "stream",
     "text": [
      "Hello, my name is Alice. Nice to meet you!\n"
     ]
    }
   ],
   "source": [
    "class Person:\n",
    "    def __init__(self, name):\n",
    "        self.name = name\n",
    "\n",
    "    def greet(self):\n",
    "        print(f\"Hello, my name is {self.name}. Nice to meet you!\")\n",
    "\n",
    "# Example usage:\n",
    "person1 = Person(\"Alice\")\n",
    "person1.greet()\n"
   ]
  },
  {
   "cell_type": "markdown",
   "id": "ff0939a3",
   "metadata": {},
   "source": [
    "# **Implement a Constructor (___init__)**"
   ]
  },
  {
   "cell_type": "markdown",
   "id": "650916ce",
   "metadata": {},
   "source": [
    "Modify The Person Class to include constructor ___init__ that intializes the name and age arrtribute with new object created\n",
    "\n",
    "#### **Example usage:**\n",
    "\n",
    "person = Person(\"Bob\" , 25)\n",
    "print(person.name)\n",
    "print(person.age)"
   ]
  },
  {
   "cell_type": "code",
   "execution_count": 13,
   "id": "bf074b50",
   "metadata": {},
   "outputs": [
    {
     "name": "stdout",
     "output_type": "stream",
     "text": [
      "Bob\n",
      "25\n"
     ]
    }
   ],
   "source": [
    "class Person:\n",
    "    def __init__(self, name, age):\n",
    "        self.name = name\n",
    "        self.age = age\n",
    "\n",
    "# Example usage:\n",
    "person = Person(\"Bob\", 25)\n",
    "print(person.name)\n",
    "print(person.age)\n"
   ]
  },
  {
   "cell_type": "code",
   "execution_count": 12,
   "id": "1bfc8c9d",
   "metadata": {},
   "outputs": [
    {
     "name": "stdout",
     "output_type": "stream",
     "text": [
      "Hello, my name is Alice and I am 25 years old.\n"
     ]
    }
   ],
   "source": [
    "class Person:\n",
    "    def __init__(self, name, age):\n",
    "        self.name = name\n",
    "        self.age = age\n",
    "\n",
    "    def greet(self):\n",
    "        print(f\"Hello, my name is {self.name} and I am {self.age} years old.\")\n",
    "\n",
    "# Example usage:\n",
    "person1 = Person(\"Alice\", 25)\n",
    "person1.greet()\n"
   ]
  },
  {
   "cell_type": "markdown",
   "id": "995ed2ce",
   "metadata": {},
   "source": [
    "# **4. Create Multiple objects**"
   ]
  },
  {
   "cell_type": "markdown",
   "id": "02fbc381",
   "metadata": {},
   "source": [
    "Create a multiple bojects of the Peraon class with different names and ages. Print their attributes to verify object holds own data.\n",
    "\n",
    "#### **Example output :**\n",
    "\n",
    "Name: Alice ,Age :30\n",
    "Name: Bob , Age :35\n",
    "Nmae : Charlie , Age :40"
   ]
  },
  {
   "cell_type": "code",
   "execution_count": 14,
   "id": "ea6c5da3",
   "metadata": {},
   "outputs": [
    {
     "name": "stdout",
     "output_type": "stream",
     "text": [
      "Name: Alice, Age: 30\n",
      "Name: Bob, Age: 35\n",
      "Name: Charlie, Age: 40\n"
     ]
    }
   ],
   "source": [
    "class Person:\n",
    "    def __init__(self, name, age):\n",
    "        self.name = name\n",
    "        self.age = age\n",
    "\n",
    "# Creating multiple Person objects\n",
    "person1 = Person(\"Alice\", 30)\n",
    "person2 = Person(\"Bob\", 35)\n",
    "person3 = Person(\"Charlie\", 40)\n",
    "\n",
    "# Printing their attributes\n",
    "print(f\"Name: {person1.name}, Age: {person1.age}\")\n",
    "print(f\"Name: {person2.name}, Age: {person2.age}\")\n",
    "print(f\"Name: {person3.name}, Age: {person3.age}\")\n"
   ]
  },
  {
   "cell_type": "markdown",
   "id": "69e244ff",
   "metadata": {},
   "source": [
    "# **5. Define a Class with Methods :**\n",
    "\n",
    "Create a class car with attributes color and brand. Add a method drive() that print message like \"the Red Toyota is driving\".\n",
    "\n",
    " #### **Example output :**\n",
    "\n",
    "\"the Red Toyota is driving\""
   ]
  },
  {
   "cell_type": "code",
   "execution_count": 15,
   "id": "9a955f99",
   "metadata": {},
   "outputs": [
    {
     "name": "stdout",
     "output_type": "stream",
     "text": [
      "The Red Toyota is driving.\n"
     ]
    }
   ],
   "source": [
    "class Car:\n",
    "    def __init__(self, color, brand):\n",
    "        self.color = color\n",
    "        self.brand = brand\n",
    "\n",
    "    def drive(self):\n",
    "        print(f\"The {self.color} {self.brand} is driving.\")\n",
    "\n",
    "# Example usage:\n",
    "car1 = Car(\"Red\", \"Toyota\")\n",
    "car1.drive()\n"
   ]
  }
 ],
 "metadata": {
  "kernelspec": {
   "display_name": "awfera",
   "language": "python",
   "name": "python3"
  },
  "language_info": {
   "codemirror_mode": {
    "name": "ipython",
    "version": 3
   },
   "file_extension": ".py",
   "mimetype": "text/x-python",
   "name": "python",
   "nbconvert_exporter": "python",
   "pygments_lexer": "ipython3",
   "version": "3.10.16"
  }
 },
 "nbformat": 4,
 "nbformat_minor": 5
}
