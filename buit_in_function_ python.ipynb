{
 "cells": [
  {
   "cell_type": "markdown",
   "metadata": {},
   "source": [
    "# **Lectures no : 08 Practices**\n",
    "\n",
    " # **Topic: Function in Python**"
   ]
  },
  {
   "cell_type": "markdown",
   "metadata": {},
   "source": [
    "**when we need to do something repetitively in Python for a specific output,\n",
    "instead of writing the same lines of code again and again  we define a function. \n",
    "This function can be called whenever needed.**\n",
    "\n",
    "To understand functions, let's consider an analogy. \n",
    "Imagine that a chef works in a restaurant, and he gets repeated orders of recipes. The chef has two options:\n",
    "\n",
    "**Option 1**: He takes a recipe book, and every time he gets an order, he writes down the steps of that order and starts making the recipe.\n",
    "\n",
    " **Option 2:** He writes down the recipe once and hangs it at one place. Whenever he gets an order for the same recipe, \n",
    "he simply follows the steps and makes the recipe."
   ]
  },
  {
   "cell_type": "markdown",
   "metadata": {},
   "source": [
    "# Benefits of Functions\n",
    "Using functions in programming offers several benefits:\n",
    "\n",
    "**1. Code Reusability:**\n",
    " You do not need to rewrite the same code over and over again. Functions allow you to reuse the code, \n",
    " making your program more efficient.\n",
    "\n",
    "2. **Concise, Clean, and Modular Code:**\n",
    " If you have multiple tasks to perform, you can create a function for each task. \n",
    "This makes the code more organized and easier to understand. For example, instead of writing 10 lines of code for 10 tasks, \n",
    "you can create functions for each and use them multiple times.\n",
    "\n",
    "3. **Error Reduction:**\n",
    " When performing repetitive tasks, the chances of making mistakes increase. By using functions, you reduce the possibility of errors \n",
    " as you are calling the same code instead of re-writing it every time."
   ]
  },
  {
   "cell_type": "markdown",
   "metadata": {},
   "source": [
    "# **How Functions Work**\n",
    "\n",
    "## Function Definition:\n",
    " To create a function in Python, you define it with a name, and it can take inputs (parameters) and produce outputs.\n",
    "\n",
    "****Example of a Function:****\n",
    "\n",
    " Consider a juicer machine.\n",
    "\n",
    "Input: A fruit.\n",
    "\n",
    "Output: Juice made from that fruit.\n",
    "\n",
    "You can use this machine repeatedly for different fruits to get juice, similar to how a function works with inputs and outputs."
   ]
  },
  {
   "cell_type": "markdown",
   "metadata": {},
   "source": [
    "# **Types of Function:**\n",
    "\n",
    "**python provided two type of function**\n",
    "\n",
    "**1.Built in function\n",
    "**\n",
    "2.User Defined function**\n"
   ]
  },
  {
   "cell_type": "markdown",
   "metadata": {},
   "source": [
    "# **Python Built-in Functions**\n",
    "\n",
    "**Python provides many built-in functions to perform common tasks. Here are a few of them:** \n",
    "**include print(), input(), sorted(), max(), etc**"
   ]
  },
  {
   "cell_type": "code",
   "execution_count": 3,
   "metadata": {},
   "outputs": [
    {
     "name": "stdout",
     "output_type": "stream",
     "text": [
      "Welcome to python coures!\n"
     ]
    }
   ],
   "source": [
    "#Print() function display output.\n",
    "print(\"Welcome to python coures!\")"
   ]
  },
  {
   "cell_type": "code",
   "execution_count": null,
   "metadata": {},
   "outputs": [
    {
     "name": "stdout",
     "output_type": "stream",
     "text": [
      "6\n",
      "the length of the word is: 6\n"
     ]
    }
   ],
   "source": [
    "#Example1:Returns the len() of an object (string, list, etc.) l\n",
    "\n",
    "text = \"Python\"\n",
    "\n",
    "print(len(text))  # Output: 6\n",
    "\n",
    "print(\"the length of the word is:\", len(text))  #like counting the number of ingredients in adish"
   ]
  },
  {
   "cell_type": "code",
   "execution_count": null,
   "metadata": {},
   "outputs": [
    {
     "name": "stdout",
     "output_type": "stream",
     "text": [
      "5\n",
      "The highest price on the menu is: 5\n"
     ]
    }
   ],
   "source": [
    "#Example 2: Max() returan the max value in list\n",
    "number = [1,2,3,4,5]\n",
    "\n",
    "print(max(number))\n",
    "\n",
    "highest_price = max (number)\n",
    "print(\"The highest price on the menu is:\", highest_price) "
   ]
  },
  {
   "cell_type": "code",
   "execution_count": 13,
   "metadata": {},
   "outputs": [
    {
     "name": "stdout",
     "output_type": "stream",
     "text": [
      "[0.4, 4.2, 5.0, 5.8]\n",
      "the resturant ratings from lowest: [0.4, 4.2, 5.0, 5.8]\n"
     ]
    }
   ],
   "source": [
    "#Example 3: Sorted() sorte a list into asscending order or rating\n",
    "\n",
    "numbers = [4.2 , 0.4 , 5.8 ,5.0]\n",
    "sorted_numbers = sorted(numbers)\n",
    "\n",
    "\n",
    "print(sorted(numbers))\n",
    "print(\"the resturant ratings from lowest:\" , sorted_numbers) #like arranging dishes in a menu from lowest to highest price\n",
    "\n"
   ]
  },
  {
   "cell_type": "code",
   "execution_count": 7,
   "metadata": {},
   "outputs": [
    {
     "name": "stdout",
     "output_type": "stream",
     "text": [
      "0\n",
      "1\n",
      "2\n",
      "3\n",
      "4\n"
     ]
    }
   ],
   "source": [
    "#Example:4 rang() generate a sequence of numbers\n",
    "for i in range(5):\n",
    "\n",
    "    print(i)  # Output: 0, 1, 2, 3, 4"
   ]
  },
  {
   "cell_type": "code",
   "execution_count": 15,
   "metadata": {},
   "outputs": [
    {
     "name": "stdout",
     "output_type": "stream",
     "text": [
      "1362605310480\n",
      "the memory address of x is : 1362605310480\n"
     ]
    }
   ],
   "source": [
    "#Example: 5 Return the memory address of the object\n",
    "x = 10\n",
    "\n",
    "print(id(x))  # Output: Memory address of the object\n",
    "print(\"the memory address of x is :\" , id(x)) #labeling dishes with order numbers\n",
    " "
   ]
  },
  {
   "cell_type": "code",
   "execution_count": 16,
   "metadata": {},
   "outputs": [
    {
     "name": "stdout",
     "output_type": "stream",
     "text": [
      "11\n",
      "the result of the expression is:\n"
     ]
    }
   ],
   "source": [
    "#Example: 6 eval() Evaluates a string as a Python expression.\n",
    "\n",
    "expression = \"5 + 3 * 2\"\n",
    "result = eval(expression)\n",
    "print(result)  # Output: 11\n",
    "print(\"the result of the expression is:\" ,)"
   ]
  },
  {
   "cell_type": "code",
   "execution_count": 3,
   "metadata": {},
   "outputs": [
    {
     "name": "stdout",
     "output_type": "stream",
     "text": [
      " The type of num is: <class 'int'>\n"
     ]
    }
   ],
   "source": [
    "# the type()function return the type of variable (checking if an ingredient fresh or expired)\n",
    "\n",
    "num = 10\n",
    "print(\" The type of num is:\", type(num))"
   ]
  },
  {
   "cell_type": "markdown",
   "metadata": {},
   "source": [
    "# **Function Execution with Input and Output**\n",
    "\n",
    "Functions can take input and provide output. Here are some examples of how to use them effectively:\n",
    "# \n",
    "**Input and Output Example:**\n",
    "\n",
    " If you want to display a message and take input from the user, you can use the **input()** function:"
   ]
  },
  {
   "cell_type": "code",
   "execution_count": null,
   "metadata": {},
   "outputs": [
    {
     "name": "stdout",
     "output_type": "stream",
     "text": [
      "Hello shanza\n"
     ]
    }
   ],
   "source": [
    "#input() take input from user in runtime\n",
    "name = input(\"Enter your name: \")\n",
    "\n",
    "print(\"Hello\", name) #see the above task bar asked enter your name"
   ]
  },
  {
   "cell_type": "code",
   "execution_count": null,
   "metadata": {},
   "outputs": [],
   "source": [
    "#Meaningful Messages:\n",
    " #It is important to display meaningful messages for better readability and user experience. For example: \n",
    "\n",
    "print(f\"The length of the string is {len(name)}\")"
   ]
  },
  {
   "cell_type": "code",
   "execution_count": null,
   "metadata": {},
   "outputs": [],
   "source": []
  }
 ],
 "metadata": {
  "kernelspec": {
   "display_name": "awfera",
   "language": "python",
   "name": "python3"
  },
  "language_info": {
   "codemirror_mode": {
    "name": "ipython",
    "version": 3
   },
   "file_extension": ".py",
   "mimetype": "text/x-python",
   "name": "python",
   "nbconvert_exporter": "python",
   "pygments_lexer": "ipython3",
   "version": "3.10.16"
  }
 },
 "nbformat": 4,
 "nbformat_minor": 2
}
