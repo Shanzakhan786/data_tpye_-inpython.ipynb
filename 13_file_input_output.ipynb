{
 "cells": [
  {
   "cell_type": "markdown",
   "id": "10f03a83",
   "metadata": {},
   "source": [
    "# **lectures No # 13 (Python Coures)**\n",
    "\n",
    "# **Topic: File Input/Output In Python**\n",
    "\n",
    "# **Tpoics Covered:**"
   ]
  },
  {
   "cell_type": "markdown",
   "id": "dfe8e38a",
   "metadata": {},
   "source": [
    "1. what is file I/O ?  \n",
    "   \n",
    "\n",
    "2. Opening and closing Files in Pyhton \n",
    "\n",
    "3. Working With JSON Files In Pyhton\n",
    "\n",
    "4. Why we need file handling?\n",
    "\n",
    "5. Reading from and writing to files\n",
    "\n",
    "6. Handling File Exceptions\n",
    "\n"
   ]
  },
  {
   "cell_type": "markdown",
   "id": "b0d7aea3",
   "metadata": {},
   "source": [
    "## **1. What's file input/output?**"
   ]
  },
  {
   "cell_type": "markdown",
   "id": "a3dbc991",
   "metadata": {},
   "source": [
    "Files O/I allows to a program to **interact** with files.\n",
    "\n",
    "**Input: Reading from a files is an example of output.**\n",
    "\n",
    "**output: writing to a files is an example of input.**\n",
    "\n",
    "**Implementation : Pyhthon has a built-in function called open() which is used to open a file.**\n",
    "\n",
    "E**xample: Reading text, writing text, reading binary, writing binary, reading and writing CSV, reading and writing JSON.**"
   ]
  },
  {
   "cell_type": "markdown",
   "id": "6f45e6d8",
   "metadata": {},
   "source": [
    "# **2. Why We need file handling ?**\n",
    "\n",
    "**Persistent (Mahfoz) Storage**: Files are used to store data in a persistent manner, meaning that the data remains even after the program.\n",
    "\n",
    "**Data Sharing** : Enables sharing between differnet programs and users.\n",
    "\n",
    "**Large Data**: Files are used to store large data that cannot be stored in memory.\n",
    "\n",
    "**User Perference** : Files are used to store user preferences and settings.\n",
    "\n",
    "**Logging** : stores logs for future analysis or debugging."
   ]
  },
  {
   "cell_type": "markdown",
   "id": "08def615",
   "metadata": {},
   "source": [
    "# **3. Opening and Closing Files  In Python**\n",
    "\n",
    "To Works with Files In python . we use Open() function.\n",
    "\n",
    "\n",
    "**Syntax:**"
   ]
  },
  {
   "cell_type": "markdown",
   "id": "0b5626b4",
   "metadata": {},
   "source": [
    "file = open ('filename.txt','mode')\n",
    "# perform operation on file\n",
    "file.close()\n",
    "\n",
    "Always closed the file aftering opening it to free up the system rescoures"
   ]
  },
  {
   "cell_type": "code",
   "execution_count": null,
   "id": "d110af3a",
   "metadata": {},
   "outputs": [],
   "source": [
    "# Opening a file and closing it properly\n",
    "\n",
    "file = open('example.txt', 'w') # Open the file in write mode if file excit s, otherwise create it anf then open it\n",
    "file.write('Hello, world! , this is a test.')\n",
    "file.close()"
   ]
  },
  {
   "cell_type": "markdown",
   "id": "16ab1943",
   "metadata": {},
   "source": [
    "# **4. Reading from and writting to Files**\n",
    "\n",
    "We can use different modes while working with files\n",
    "\n",
    "**.** **'r'** : Read mode(default)\n",
    "\n",
    "**.** **'w'** : write mode (create a new files or overwrites an existing one)\n",
    "\n",
    "**.** **'a'** : append mode (create a new file or appends to an existing one)\n",
    "\n",
    ". **'r+'** : Read and write mode\n",
    "\n",
    "**Example: Writing and Reading a File in Pyhton**"
   ]
  },
  {
   "cell_type": "markdown",
   "id": "d5cfde0f",
   "metadata": {},
   "source": [
    "# **Examples of Different File Modes In Python**\n",
    "\n",
    "### Below are examples demonstrating the different file modes available in Pyhton"
   ]
  },
  {
   "cell_type": "markdown",
   "id": "27d2746c",
   "metadata": {},
   "source": [
    "# **Read Mode('r')** \n",
    "### Opens a file for reading if file exist."
   ]
  },
  {
   "cell_type": "code",
   "execution_count": 9,
   "id": "e4606587",
   "metadata": {},
   "outputs": [
    {
     "name": "stdout",
     "output_type": "stream",
     "text": [
      "File content: Hello, world! , this is a test.\n"
     ]
    }
   ],
   "source": [
    "try:\n",
    "    with open('example.txt', 'r') as file:\n",
    "        content = file.read()\n",
    "        print('File content:' , content)\n",
    "except FileNotFoundError:\n",
    "    print(\"File not found. Please check the file path and try again.\")"
   ]
  },
  {
   "cell_type": "markdown",
   "id": "8dbc724c",
   "metadata": {},
   "source": [
    "# **Write Mode('w')**\n",
    "\n",
    "### Creates a new file or overwrite an existing file"
   ]
  },
  {
   "cell_type": "code",
   "execution_count": 10,
   "id": "e7afee29",
   "metadata": {},
   "outputs": [
    {
     "name": "stdout",
     "output_type": "stream",
     "text": [
      "File has been written successfully.\n"
     ]
    }
   ],
   "source": [
    "with open('example.txt', 'w') as file:\n",
    "    file.write('This is a new line of text.')\n",
    "    print('File has been written successfully.')\n",
    "# The file is automatically closed after the with block"
   ]
  },
  {
   "cell_type": "markdown",
   "id": "a3db8615",
   "metadata": {},
   "source": [
    " # **Append Mldes('a')**\n",
    "\n",
    "\n",
    "### Adds to a files without delecting existing content"
   ]
  },
  {
   "cell_type": "code",
   "execution_count": 14,
   "id": "764d2114",
   "metadata": {},
   "outputs": [
    {
     "name": "stdout",
     "output_type": "stream",
     "text": [
      "File has been appended successfully.\n"
     ]
    }
   ],
   "source": [
    "with open('example.txt' , 'a') as file:\n",
    "    file.write('\\nThis is an appended line of text.')\n",
    "    print('File has been appended successfully.')"
   ]
  },
  {
   "cell_type": "markdown",
   "id": "96b3000c",
   "metadata": {},
   "source": [
    "# **Read and Write Mode ('r+')**\n",
    "\n",
    "\n",
    "### opens the file for both reading and writing"
   ]
  },
  {
   "cell_type": "code",
   "execution_count": 15,
   "id": "53d4e9ac",
   "metadata": {},
   "outputs": [
    {
     "name": "stdout",
     "output_type": "stream",
     "text": [
      "current Content: This is a new line of text.This is an appended line of text.\n",
      "This is an appended line of text.\n",
      "File has been written successfully.\n"
     ]
    }
   ],
   "source": [
    "with open ('example.txt', 'r+') as file:\n",
    "    content = file.read()\n",
    "    print('current Content:' , content)\n",
    "    file.write('\\nThis adding new content  in readwrite mode.')\n",
    "print('File has been written successfully.')"
   ]
  },
  {
   "cell_type": "code",
   "execution_count": 17,
   "id": "773dca1d",
   "metadata": {},
   "outputs": [
    {
     "name": "stdout",
     "output_type": "stream",
     "text": [
      "this is the second line\n"
     ]
    }
   ],
   "source": [
    "# Writing to a file \n",
    "with open ('example.txt' , 'w') as file:\n",
    "    file.write(\"this is the second line\")\n",
    "\n",
    "# Reading from a file\n",
    "with open('example.txt', 'r') as file:\n",
    "    content = file.read()\n",
    "    print(content)"
   ]
  },
  {
   "cell_type": "markdown",
   "id": "0c1f3691",
   "metadata": {},
   "source": [
    "# **5.Working with JSON file in Python**\n",
    "\n",
    "**JSON( Java Scritp Object Notation)** is a pupolar format for **storing and exchaning data**\n",
    "\n",
    "Pyhton provides a **built-in Json** module to handle JSON files easily\n",
    "\n",
    "**Example:** Storing and loading data using JSON files"
   ]
  },
  {
   "cell_type": "code",
   "execution_count": 26,
   "id": "a54c212b",
   "metadata": {},
   "outputs": [
    {
     "name": "stdout",
     "output_type": "stream",
     "text": [
      "loaded_data\n"
     ]
    }
   ],
   "source": [
    "import json\n",
    "\n",
    "# Sample Dictionary\n",
    "data = {'name': 'khan' , 'age ': 25 , 'city': 'Lahore'}\n",
    "\n",
    "# Working JSON data to a file\n",
    "with open ('data.json' , 'w') as file:\n",
    "    json.dump(data , file)\n",
    "\n",
    "\n",
    "#Reading JSon data from the file\n",
    "with open('data.json', 'r') as file:\n",
    "    loaded_data = json.load(file)\n",
    "    print('loaded_data')"
   ]
  },
  {
   "cell_type": "markdown",
   "id": "e1b477f6",
   "metadata": {},
   "source": [
    "# **6. Handling File Exceptions:**\n",
    "\n",
    "Sometime , error occur while working with files. to show grace message for user. For Example\n",
    "\n",
    "**.** File does not exist.\n",
    "\n",
    "**.** The program lacks permission to read/write.\n",
    "\n",
    "**.** The file is already in use by another program.\n",
    "\n",
    "**Use Try-except to handle file related exceptions**"
   ]
  },
  {
   "cell_type": "code",
   "execution_count": 27,
   "id": "84c5a578",
   "metadata": {},
   "outputs": [
    {
     "name": "stdout",
     "output_type": "stream",
     "text": [
      "Error: the file does not exist!\n"
     ]
    }
   ],
   "source": [
    "try:\n",
    "    with open('non_existent_file.txt', 'r') as file:\n",
    "        content = file.read()\n",
    "        print(content)\n",
    "except FileNotFoundError:\n",
    "    print(\"Error: the file does not exist!\")"
   ]
  },
  {
   "cell_type": "code",
   "execution_count": null,
   "id": "80cf5cbb",
   "metadata": {},
   "outputs": [],
   "source": []
  }
 ],
 "metadata": {
  "kernelspec": {
   "display_name": "awfera",
   "language": "python",
   "name": "python3"
  },
  "language_info": {
   "codemirror_mode": {
    "name": "ipython",
    "version": 3
   },
   "file_extension": ".py",
   "mimetype": "text/x-python",
   "name": "python",
   "nbconvert_exporter": "python",
   "pygments_lexer": "ipython3",
   "version": "3.10.16"
  }
 },
 "nbformat": 4,
 "nbformat_minor": 5
}
