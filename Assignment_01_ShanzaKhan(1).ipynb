{
  "nbformat": 4,
  "nbformat_minor": 0,
  "metadata": {
    "colab": {
      "provenance": []
    },
    "kernelspec": {
      "name": "python3",
      "display_name": "Python 3"
    },
    "language_info": {
      "name": "python"
    }
  },
  "cells": [
    {
      "cell_type": "markdown",
      "source": [
        "# **Assignment #01**\n",
        "\n",
        "# **Hope to Skills:**\n",
        "\n",
        "# **Free Artificial Intelligence Advance Course**\n",
        "\n",
        "# **Instructor:**\n",
        "\n",
        "# **Irfan Malik, Dr. Sheraz**\n",
        "# **Student Name:Shanza Khan**"
      ],
      "metadata": {
        "id": "dBC5jj6qJhDY"
      }
    },
    {
      "cell_type": "markdown",
      "source": [
        "# **Solve the Following Task:**"
      ],
      "metadata": {
        "id": "FdFis25PKhq8"
      }
    },
    {
      "cell_type": "markdown",
      "source": [
        "# 1.Create a list named \"fruits\" containing three different fruits and display its items using for loop."
      ],
      "metadata": {
        "id": "PPE12Y2AKn9t"
      }
    },
    {
      "cell_type": "code",
      "source": [
        "#Create list containing three different fruits\n",
        "fruits = [\"orang\",\"apple\",\"mango\"]\n",
        "for items in fruits:\n",
        " print(items)\n",
        "print(fruits) #printing the list"
      ],
      "metadata": {
        "colab": {
          "base_uri": "https://localhost:8080/"
        },
        "id": "MnRhc2AxLUa0",
        "outputId": "62d19aed-c5a0-485a-e4db-e1c465e7b164"
      },
      "execution_count": 26,
      "outputs": [
        {
          "output_type": "stream",
          "name": "stdout",
          "text": [
            "orang\n",
            "apple\n",
            "mango\n",
            "['orang', 'apple', 'mango']\n"
          ]
        }
      ]
    },
    {
      "cell_type": "markdown",
      "source": [
        "# 2.Create a tuple named \"numbers\" with five random numbers and  display its item using for loop."
      ],
      "metadata": {
        "id": "watwgVGuN45P"
      }
    },
    {
      "cell_type": "code",
      "source": [
        "#Create a Tuple with random numbers\n",
        "import random\n",
        "numbers = tuple(random.randint(1,100) for _ in range(5))\n",
        "\n",
        "#print numbers using for loop\n",
        "print(\"\\nNumbers:\")\n",
        "for number in numbers:\n",
        " print(number)\n"
      ],
      "metadata": {
        "colab": {
          "base_uri": "https://localhost:8080/"
        },
        "id": "grvwWzWQOX7L",
        "outputId": "e74796ff-092c-4d4f-aa9e-288e5fb4413a"
      },
      "execution_count": 25,
      "outputs": [
        {
          "output_type": "stream",
          "name": "stdout",
          "text": [
            "\n",
            "Numbers:\n",
            "69\n",
            "98\n",
            "70\n",
            "92\n",
            "96\n"
          ]
        }
      ]
    },
    {
      "cell_type": "markdown",
      "source": [
        "# 3.Create a set named \"colors\" with three different colors and display its items using for loop."
      ],
      "metadata": {
        "id": "g8DrQqVNUoFD"
      }
    },
    {
      "cell_type": "code",
      "source": [
        "#Create a Set with different colors\n",
        "colors = {\"Red\",\"Pink\",\"White\"}\n",
        "\n",
        "#print color using for loop\n",
        "print(\"\\nColors:\")\n",
        "for color in colors:\n",
        "  print(color)\n"
      ],
      "metadata": {
        "colab": {
          "base_uri": "https://localhost:8080/"
        },
        "id": "vLSrTqZ0VFOH",
        "outputId": "288e7c56-ce4d-4872-dde2-be1b6ccc292d"
      },
      "execution_count": 33,
      "outputs": [
        {
          "output_type": "stream",
          "name": "stdout",
          "text": [
            "\n",
            "Colors:\n",
            "White\n",
            "Pink\n",
            "Red\n"
          ]
        }
      ]
    },
    {
      "cell_type": "markdown",
      "source": [
        "# 4.Create a dictionary named \"student\" with the following key-value pairs:\n",
        "\n",
        " o \"name\" as the key and the student's name as the value.\n",
        "\n",
        "o \"age\" as the key and the student's age as the value.\n",
        "\n",
        "o \"grade\" as the key and the student's grade as the value.\n",
        "\n",
        "o Iterate over the dictionary using the for loop and display its keys"
      ],
      "metadata": {
        "id": "tUlkxBuOY5MX"
      }
    },
    {
      "cell_type": "code",
      "source": [
        "#Create a dictionary with key-value pairs\n",
        "student = {\n",
        "    \"name\":\"Johen\",\n",
        "    \"age\":20,\n",
        "    \"grade\": \"A\"\n",
        "    }\n",
        "#Iterate through each key in the dictionary\n",
        "print(\"\\nStudent Information:\")\n",
        "for key in student:\n",
        " print(f\"{key}: {student[key]}\")"
      ],
      "metadata": {
        "colab": {
          "base_uri": "https://localhost:8080/"
        },
        "id": "-iOdAYPSZLpQ",
        "outputId": "426492dc-7d81-4a00-9a1d-5ae525890a21"
      },
      "execution_count": 48,
      "outputs": [
        {
          "output_type": "stream",
          "name": "stdout",
          "text": [
            "\n",
            "Student Information:\n",
            "name: Johen\n",
            "age: 20\n",
            "grade: A\n"
          ]
        }
      ]
    },
    {
      "cell_type": "markdown",
      "source": [
        "# 5.Create a multi-line string named \"poem\" with a short poem of your choice."
      ],
      "metadata": {
        "id": "VeKL38AIgo-S"
      }
    },
    {
      "cell_type": "code",
      "source": [
        "#Create Multiline string using three quotes Or three single quotes:\n",
        "poem = \"\"\"Daffodils symbolize renewal and hope, making them a popular subject for inspirational poems about daffodils.\n",
        "           This category features poems that inspire and uplift with the power of daffodils.\n",
        "           Short poetries about daffodil poems capture the beauty of daffodilsin just a few lines,\n",
        "           making them perfect for sharing on social media or as part of a greeting card.\"\"\""
      ],
      "metadata": {
        "id": "dpPUyAf6iFXY"
      },
      "execution_count": 50,
      "outputs": []
    },
    {
      "cell_type": "markdown",
      "source": [
        "#6.Write an if statement to check if the length of the \"fruits\" list is greater than 3. If it is, print \"You have many fruits!\"."
      ],
      "metadata": {
        "id": "QD2m4G5hne3d"
      }
    },
    {
      "cell_type": "code",
      "source": [
        "#Create a list with more than 3 fruits:\n",
        "fruits = [\"banana\",\"apple\",\"orang\",\"cheery\",\"mango\"]\n",
        "if len(fruits)>3: #using len() menthod\n",
        "  print(\"You have many fruits!\")\n"
      ],
      "metadata": {
        "colab": {
          "base_uri": "https://localhost:8080/"
        },
        "id": "SP_vfNXEm__o",
        "outputId": "e39d00e0-7cf6-43b5-e8fb-fa33e5eb5a37"
      },
      "execution_count": 54,
      "outputs": [
        {
          "output_type": "stream",
          "name": "stdout",
          "text": [
            "You have many fruits!\n"
          ]
        }
      ]
    },
    {
      "cell_type": "markdown",
      "source": [
        "# 7.Create a program that takes a student's numerical grade as input and prints a corresponding letter grade. Use if-else statements to classify the grade into categories such as \"A,\" \"B,\" \"C,\" \"D,\" or \"F.\"\n",
        "\n",
        "o If the numerical grade is 90 or higher, the corresponding letter grade is \"A.\"\n",
        "\n",
        "o If the numerical grade is between 80 and 89 (inclusive), the corresponding\n",
        "letter grade is \"B.\"\n",
        "\n",
        "o If the numerical grade is between 70 and 79 (inclusive), the corresponding\n",
        "letter grade is \"C.\"\n",
        "\n",
        "o If the numerical grade is between 60 and 69 (inclusive), the corresponding\n",
        "letter grade is \"D.\"\n",
        "\n",
        "o If the numerical grade is below 60, the corresponding letter grade is \"F.\""
      ],
      "metadata": {
        "id": "k-rzHEaep0gg"
      }
    },
    {
      "cell_type": "code",
      "source": [
        "#Using numerical grade as input\n",
        "numerical_grade = int(input(\"Enter the students numerical grade:\"))\n",
        "#using elif statments to classify grade:\n",
        "if numerical_grade >= 90:\n",
        "   letter_grade = \"A\"\n",
        "elif numerical_grade >= 80: # b/w 80 and 89 (inclusive)\n",
        "    letter_grade = \"B\"\n",
        "elif numerical_grade >= 70: #b/w 70 and 79 (inclusive)\n",
        "    letter_grade = \"c\"\n",
        "elif numerical_grade >= 60: # b/w 60 and 69 (inclusive)\n",
        "      letter_grade = \"D\"\n",
        "else:\n",
        "      letter_grade = \"F\" # below 60\n",
        "      print(\"the corresponding letter grade is\")\n",
        "\n"
      ],
      "metadata": {
        "colab": {
          "base_uri": "https://localhost:8080/"
        },
        "id": "0nyw4nyNoKLo",
        "outputId": "bc4b676f-4398-48ae-9a88-e40a51c1d9a2"
      },
      "execution_count": 65,
      "outputs": [
        {
          "name": "stdout",
          "output_type": "stream",
          "text": [
            "Enter the students numerical grade:88\n"
          ]
        }
      ]
    },
    {
      "cell_type": "markdown",
      "source": [
        "# 8.Create a program that takes a temperature in Celsius as input from user and classifies it into categories like \"Freezing,\" \"Cold,\" \"Moderate,\" \"Warm,\" or \"Hot.\"Use if-else statements to define the temperature ranges for each category.\n",
        "\n",
        "o If the temperature is below -10 degrees Celsius, it's classified as \"Freezing\".\n",
        "\n",
        "\n",
        "o If the temperature is between -10 and 0 degrees Celsius (exclusive), it's\n",
        "classified as \"Cold.\"\n",
        "\n",
        "o If the temperature is between 0 and 20 degrees Celsius (exclusive), it's\n",
        "classified as \"Moderate.\"\n",
        "\n",
        "o If the temperature is between 20 and 30 degrees Celsius (exclusive), it's\n",
        "classified as \"Warm.\"\n",
        "\n",
        "o If the temperature is 30 degrees Celsius or above, it's classified as \"Hot.\""
      ],
      "metadata": {
        "id": "8AKcoWshxb3C"
      }
    },
    {
      "cell_type": "code",
      "source": [],
      "metadata": {
        "id": "ABWlRNiMx_rf"
      },
      "execution_count": null,
      "outputs": []
    }
  ]
}