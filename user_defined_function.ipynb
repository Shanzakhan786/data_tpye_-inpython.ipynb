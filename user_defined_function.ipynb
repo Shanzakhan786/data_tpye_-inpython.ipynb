{
 "cells": [
  {
   "cell_type": "markdown",
   "metadata": {},
   "source": [
    "# **Lecture No 9: Practice**\n"
   ]
  },
  {
   "cell_type": "markdown",
   "metadata": {},
   "source": [
    "## **Topic: User Define Function**"
   ]
  },
  {
   "cell_type": "markdown",
   "metadata": {},
   "source": [
    "# **Function Define In Python**"
   ]
  },
  {
   "cell_type": "markdown",
   "metadata": {},
   "source": [
    "A function is block of **resuable code** that perform a specific task .Instead weiting the same instruction repeatedly .we define a \n",
    "function once and call it whenever needed."
   ]
  },
  {
   "cell_type": "markdown",
   "metadata": {},
   "source": [
    "# **Key Compoenent of a Function Definition**"
   ]
  },
  {
   "cell_type": "markdown",
   "metadata": {},
   "source": [
    "1. **def**  A keywoed that show starting of the function\n",
    "2. **function_name** : A unique name for identifing the function\n",
    "3. **parameters(optional)** : Values pass to the function for processing\n",
    "4. **:(colon)**: Marks the end of the function header.\n",
    "5. **Function Body** : Contain the logic (nstruction) that the function executes.\n",
    "6. **'''docstring'''** : Used to describe that function does.\n",
    "7. **return (optional)** : Return a result to the caller."
   ]
  },
  {
   "cell_type": "code",
   "execution_count": 2,
   "metadata": {},
   "outputs": [
    {
     "name": "stdout",
     "output_type": "stream",
     "text": [
      "Numbers 1: 10\n",
      "Numbers 2: 20\n",
      "Result: 30\n"
     ]
    }
   ],
   "source": [
    "#Example 1 : Defining a function name \"add\" that takes two arguments and returns their sum\n",
    "def add(num1, num2):\n",
    "    '''ths function takes two numbers ,adds them and returns the result'''  # docstring for the function in multiple lines string detailed description\n",
    "    print(\"Numbers 1:\", num1) # printinthe first number\n",
    "    print(\"Numbers 2:\", num2) # print the second number\n",
    "    addition = num1 + num2 # adding the two numbers\n",
    "    return addition # returning the result of the addition\n",
    "\n",
    "# Calling the function with two numbers\n",
    "res = add(10, 20) # calling the function and storing the result in a variable\n",
    "print(\"Result:\", res) # printing the result of the addition"
   ]
  },
  {
   "cell_type": "code",
   "execution_count": 4,
   "metadata": {},
   "outputs": [
    {
     "name": "stdout",
     "output_type": "stream",
     "text": [
      "Hello, welcome to the Python function tutorial!\n"
     ]
    }
   ],
   "source": [
    "#Eaxmple 2 : Defining a function name and call greetings function .(which takes a name as an argument and prints a greeting message)\n",
    "def greet():\n",
    "    print(\"Hello, welcome to the Python function tutorial!\") # printing a greeting message\n",
    "\n",
    "#Calling the function greet\n",
    "greet() # calling the function to execute it"
   ]
  },
  {
   "cell_type": "markdown",
   "metadata": {},
   "source": [
    "# 1. # **Function  Arguments and Return Statement**"
   ]
  },
  {
   "cell_type": "markdown",
   "metadata": {},
   "source": [
    "Function arguments allow us to **pass values** into a function, making it more fexible and **reusable**.there are **four types of arguments**"
   ]
  },
  {
   "cell_type": "markdown",
   "metadata": {},
   "source": [
    " **Default Arguments**\n",
    "\n",
    "**keyword Arguments**\n",
    "\n",
    "**Required Arguments**\n",
    "\n",
    "**variable lenght Arguments**"
   ]
  },
  {
   "cell_type": "code",
   "execution_count": 7,
   "metadata": {},
   "outputs": [
    {
     "name": "stdout",
     "output_type": "stream",
     "text": [
      "Full Name: John Smith Doe\n"
     ]
    }
   ],
   "source": [
    "# Function with a default middle name\n",
    "def name (fname ,lname, mname = \"Smith\"):\n",
    "    '''This function takes first name, last name and middle name as arguments and prints the full name'''\n",
    "    print(\"Full Name:\", fname, mname, lname) # printing the full name\n",
    "\n",
    "# Calling the function with first name and last name only\n",
    "name(\"John\", \"Doe\") # calling the function with first name and last name\n"
   ]
  },
  {
   "cell_type": "code",
   "execution_count": 8,
   "metadata": {},
   "outputs": [
    {
     "name": "stdout",
     "output_type": "stream",
     "text": [
      "Full Name: John Smith Doe\n"
     ]
    }
   ],
   "source": [
    " # Function with keyword arguments\n",
    "def name(fname, lname, mname):\n",
    "    '''This function takes first name, last name and middle name as arguments and prints the full name'''\n",
    "    print(\"Full Name:\", fname, mname, lname) # printing the full name\n",
    "\n",
    "# Calling the function with keyword arguments\n",
    "name(lname=\"Doe\", fname=\"John\", mname=\"Smith\") # calling the function with keyword arguments"
   ]
  },
  {
   "cell_type": "code",
   "execution_count": null,
   "metadata": {},
   "outputs": [
    {
     "name": "stdout",
     "output_type": "stream",
     "text": [
      "Names: John Doe Smith\n"
     ]
    }
   ],
   "source": [
    "# Function with variable number of arguments (*args) tuple of arguments\n",
    "def name(*names):\n",
    "    '''This function takes variable number of arguments and prints them'''\n",
    "    print(\"Names:\", names[0], names[1], names[2]) # printing the first three names\n",
    "\n",
    "#calling the function with variable number of arguments\n",
    "name(\"John\", \"Doe\", \"Smith\") # calling the function with three names"
   ]
  },
  {
   "cell_type": "code",
   "execution_count": 18,
   "metadata": {},
   "outputs": [
    {
     "name": "stdout",
     "output_type": "stream",
     "text": [
      "Full Name: John Doe\n"
     ]
    }
   ],
   "source": [
    "#function returning a full name\n",
    "def name(fname, lname, mname):\n",
    "    '''This function takes first name and last name as arguments and returns the full name'''\n",
    "    return fname + \" \" + lname # returning the full name\n",
    "\n",
    "# Calling the function and storing the result in a variable\n",
    "full_name = name(\"John\", \"Doe\", \"Smith\") \n",
    "# printing the full name\n",
    "print(\"Full Name:\", full_name) # printing the full name\n"
   ]
  },
  {
   "cell_type": "markdown",
   "metadata": {},
   "source": [
    "# **Local Variables**\n",
    "\n",
    "Local variables are those defined within a function. They are only accessible within the function and cannot be accessed outside of it. To help visualize this, consider the example of a classroom whiteboard:\n",
    "\n"
   ]
  },
  {
   "cell_type": "markdown",
   "metadata": {},
   "source": [
    "# **Global Variables**\n",
    "\n",
    "Global variables are defined outside of functions and are accessible throughout the entire program. In our analogy, the school's notice board can be seen by everyone in the school, not just those in a specific class. Similarly, a global variable can be accessed by any function in the program."
   ]
  },
  {
   "cell_type": "markdown",
   "metadata": {},
   "source": [
    "## **Example of Local vs global variables**"
   ]
  },
  {
   "cell_type": "code",
   "execution_count": 4,
   "metadata": {},
   "outputs": [
    {
     "name": "stdout",
     "output_type": "stream",
     "text": [
      "Inside function, x = 20 y = 10\n",
      "Outside function, x = 20\n"
     ]
    }
   ],
   "source": [
    "#Eaxmple 3 : \n",
    "x = 20 # global variable\n",
    "\n",
    "def my_function():\n",
    "    y = 10 # local variable\n",
    "    print(\"Inside function, x =\", x , \"y =\", y) # printing the local variable y\n",
    "\n",
    "my_function() # calling the function to execute it\n",
    "# print the value of x outside the function\n",
    "print(\"Outside function, x =\", x) # printing the global variable x"
   ]
  },
  {
   "cell_type": "markdown",
   "metadata": {},
   "source": [
    "# 1. # **How python handless variable scope**\n",
    "python follows the LEGB rule for variable scope, which stands for\n",
    "\n",
    " **Local(L)** : Variables declared inside a function\n",
    "\n",
    " **Enclosing(E)**: Variable enclosing function (nasted function)\n",
    "\n",
    " **Global(G)**: Variables declared At the topic level \n",
    "\n",
    " **B**uilt-in. (B): perdefined varaiable in the function(print,len)"
   ]
  },
  {
   "cell_type": "markdown",
   "metadata": {},
   "source": [
    "**Example :LEGB rule in action**"
   ]
  },
  {
   "cell_type": "markdown",
   "metadata": {},
   "source": [
    "# **the function b/w two function in nasted loops is called enclosing function**"
   ]
  },
  {
   "cell_type": "code",
   "execution_count": 17,
   "metadata": {},
   "outputs": [
    {
     "name": "stdout",
     "output_type": "stream",
     "text": [
      "Inside inner function, x = enclosing\n",
      "Inside outer function, x = enclosing\n",
      "Outside function, x = 20\n"
     ]
    }
   ],
   "source": [
    "x = 20 # global variable\n",
    "def outer_function():\n",
    "    x = 'enclosing' # enclosing variable\n",
    "    def inner_function():\n",
    "      x = \"local variable\"\n",
    "    print(\"Inside inner function, x =\", x) # printing the modified global variable x\n",
    "    inner_function() # calling the inner function to execute it\n",
    "    print(\"Inside outer function, x =\", x) # printing the gloab variable \n",
    "    \n",
    "outer_function() # calling the outer function to execute it\n",
    "print(\"Outside function, x =\", x) # printing the global variable x"
   ]
  },
  {
   "cell_type": "markdown",
   "metadata": {},
   "source": [
    "# **3. Modifying gloab variables inside function**\n",
    "\n",
    "to modifying global variables inside a function, you can use the `global` keyword. \n",
    "\n",
    "Here is an example: **global** keyword"
   ]
  },
  {
   "cell_type": "code",
   "execution_count": 25,
   "metadata": {},
   "outputs": [
    {
     "name": "stdout",
     "output_type": "stream",
     "text": [
      "updated Counter: 1\n"
     ]
    }
   ],
   "source": [
    "counter = 0 # global variable\n",
    "\n",
    "def increment():\n",
    "    global counter # declaring the global variable counter\n",
    "    counter += 1 # incrementing the global variable counter\n",
    "\n",
    "increment() # calling the function to execute it\n",
    "print(\"updated Counter:\", counter) # printing the value of counter\n",
    "    \n",
    "    \n"
   ]
  },
  {
   "cell_type": "markdown",
   "metadata": {},
   "source": [
    "## **4.Best Practices for using global and local variables**\n",
    "\n",
    "Prefer **local variables** whenever possible to **aviod unitented side effects**\n",
    "\n",
    "Minimize the user of **global** vaeiables to keep code modular and maintain able\n",
    "\n",
    "Use **function arguments** to pass values to functions instead of using global variables\n",
    "\n",
    "\n"
   ]
  },
  {
   "cell_type": "markdown",
   "metadata": {},
   "source": [
    "# **5.Understanding is , == (identity comparsion)**"
   ]
  },
  {
   "cell_type": "markdown",
   "metadata": {},
   "source": [
    "**Comparing Memory Locations: is vs ==**\n",
    "In Python, we can check if two variables refer to the **same object in memory using the is operator**, and we can check if their **values are equal using ==.**"
   ]
  },
  {
   "cell_type": "code",
   "execution_count": 27,
   "metadata": {},
   "outputs": [
    {
     "name": "stdout",
     "output_type": "stream",
     "text": [
      "True\n",
      "False\n"
     ]
    }
   ],
   "source": [
    "#Example is checking object identity\n",
    "#Identity is the same object in memory\n",
    "\n",
    "a = [1, 2, 3] # creating a list\n",
    "b = a # assigning the list to another variable\n",
    "c = [1, 2, 3] # creating another list\n",
    "print(a is b) # checking if a and b are the same object in memory\n",
    "print(a is c) # checking if a and c are the same object in memory"
   ]
  },
  {
   "cell_type": "code",
   "execution_count": null,
   "metadata": {},
   "outputs": [
    {
     "name": "stdout",
     "output_type": "stream",
     "text": [
      "True\n",
      "True\n",
      "True\n",
      "False\n",
      "False\n"
     ]
    }
   ],
   "source": [
    "#Eample == operator checking same values\n",
    "\n",
    "a = [1, 2, 3] # creating a list\n",
    "b = a # assigning the list to another variable\n",
    "c = [1, 2, 3] # creating another list\n",
    "\n",
    "print(a == b) # checking if a and b have the same values\n",
    "print(a == c) # checking if a and c have the same values\n",
    "\n",
    "# checking if a and b are the same object in memory\n",
    "print(a is b) # checking if a and b are the same object in memory\n",
    "print(a is c) # checking if a and c are the same object in memory\n",
    "# checking if c and a are the same object in memory\n",
    "print(c is a) # checking if c and a are the same object in memory\n"
   ]
  },
  {
   "cell_type": "markdown",
   "metadata": {},
   "source": [
    "# **6.Key Difference b/w is and ==**"
   ]
  },
  {
   "cell_type": "markdown",
   "metadata": {},
   "source": [
    "# **Operator || Purpose**\n",
    "\n",
    "##### **Is** : check if two object occupy the same memory loction\n",
    "\n",
    "##### **==**  : check if two object have the same value"
   ]
  },
  {
   "cell_type": "markdown",
   "metadata": {},
   "source": [
    "# 7. # **Real world Scenarios where **is** and **==** Matter**"
   ]
  },
  {
   "cell_type": "markdown",
   "metadata": {},
   "source": [
    "**Scenarios 1: Comparing immutable object (is works for small integers and strings)**"
   ]
  },
  {
   "cell_type": "code",
   "execution_count": 35,
   "metadata": {},
   "outputs": [
    {
     "name": "stdout",
     "output_type": "stream",
     "text": [
      "False\n",
      "True\n",
      "True\n"
     ]
    }
   ],
   "source": [
    "a = 1000\n",
    "b =1000\n",
    "print(a is b) # checking if a and b are the same object in memory\n",
    "\n",
    "a = 256\n",
    "b = 256\n",
    "print(a is b) # checking if a and b are the same object in memory\n",
    "#reason: python caches small integers between -5 and 256, so they are the same object in memory\n",
    "\n",
    "c  = 10\n",
    "d = 10\n",
    "print(c is d) # checking if c and d are the same object in memory"
   ]
  },
  {
   "cell_type": "markdown",
   "metadata": {},
   "source": [
    "**Scenarios 2 : checking if a varaible is None ('is' is prefered)**"
   ]
  },
  {
   "cell_type": "code",
   "execution_count": 36,
   "metadata": {},
   "outputs": [
    {
     "name": "stdout",
     "output_type": "stream",
     "text": [
      "x is None\n"
     ]
    }
   ],
   "source": [
    "x = None # creating a variable with None value\n",
    "if x is None: # checking if x is None\n",
    "    print(\"x is None\") # printing if x is None"
   ]
  }
 ],
 "metadata": {
  "kernelspec": {
   "display_name": "awfera",
   "language": "python",
   "name": "python3"
  },
  "language_info": {
   "codemirror_mode": {
    "name": "ipython",
    "version": 3
   },
   "file_extension": ".py",
   "mimetype": "text/x-python",
   "name": "python",
   "nbconvert_exporter": "python",
   "pygments_lexer": "ipython3",
   "version": "3.10.16"
  }
 },
 "nbformat": 4,
 "nbformat_minor": 2
}
