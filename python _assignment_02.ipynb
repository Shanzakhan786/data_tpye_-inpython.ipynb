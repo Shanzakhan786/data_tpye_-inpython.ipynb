{
 "cells": [
  {
   "cell_type": "markdown",
   "metadata": {},
   "source": [
    "# Platform: Awfera\n",
    "\n",
    " Assignment 02 : Python\n",
    "\n",
    "Instructor: Sir Muhammad Haris\n",
    "\n",
    "Student Name : Shanza Khan\n",
    "\n",
    "Topic of Assignments : Variables and its types , Operatore and loops"
   ]
  },
  {
   "cell_type": "markdown",
   "metadata": {},
   "source": [
    "# Question 01 : Variables and Data Types\n",
    "\n",
    "**Problem: Write a Python program that:**\n",
    "\n",
    "1. Accepts a string, an integer, a float, and a boolean from the user.\n",
    "2. Initializes variables for each type, and prints them out\n",
    "3. Convert the string to uppercase and print it.\n",
    "4. Check if the integer is even or odd and print the result.\n",
    "5. Multiply the float by 2 and print the result.\n",
    "\n",
    "\n",
    "Example Input:\n",
    "\n",
    "Enter a string: python\n",
    "\n",
    "Enter an integer: 25\n",
    "\n",
    "Enter a float: 3.14\n",
    "\n",
    "Enter a boolean (True/False): True\n",
    "\n",
    "Example Output:\n",
    "\n",
    "Uppercase String: PYTHON\n",
    "\n",
    "The number 25 is Odd\n",
    "\n",
    "Doubled float: 6.28"
   ]
  },
  {
   "cell_type": "code",
   "execution_count": 1,
   "metadata": {},
   "outputs": [
    {
     "name": "stdout",
     "output_type": "stream",
     "text": [
      "\n",
      "String: Hello\n",
      "Integer: 25\n",
      "Float: 3.14\n",
      "Boolean: True\n",
      "Uppercase String: HELLO\n",
      "The integer is Odd.\n",
      "Float multiplied by 2: 6.28\n"
     ]
    }
   ],
   "source": [
    "# Function to demonstrate variable operations\n",
    "def main():\n",
    "    # Predefined test values instead of input()\n",
    "    user_string = \"Hello\"\n",
    "    user_int = 25\n",
    "    user_float = 3.14\n",
    "    user_bool = True\n",
    "\n",
    "    # Print the variables\n",
    "    print(f\"\\nString: {user_string}\")\n",
    "    print(f\"Integer: {user_int}\")\n",
    "    print(f\"Float: {user_float}\")\n",
    "    print(f\"Boolean: {user_bool}\")\n",
    "\n",
    "    # Convert string to uppercase\n",
    "    print(f\"Uppercase String: {user_string.upper()}\")\n",
    "\n",
    "    # Check if integer is even or odd\n",
    "    print(f\"The integer is {'Even' if user_int % 2 == 0 else 'Odd'}.\")\n",
    "\n",
    "    # Multiply float by 2\n",
    "    print(f\"Float multiplied by 2: {user_float * 2}\")\n",
    "\n",
    "# Run the function\n",
    "main()"
   ]
  },
  {
   "cell_type": "markdown",
   "metadata": {},
   "source": [
    "# Question 2: Operators\n",
    "\n",
    "**Problem: Write a Python program that:**\n",
    "\n",
    "1. Accepts two numbers as input from the user.\n",
    "   \n",
    "2. Performs and prints the result of all the arithmetic operations (addition   \n",
    "   subtraction, multiplication, division, modulus, flow division) between these\n",
    "two numbers.\n",
    "\n",
    "3. Use comparison operators to check if the first number is greater than the\n",
    "second, and if they are equal.\n",
    "\n",
    "4. Use logical operators to combine two conditions (e.g., the first number is\n",
    "greater than the second, and the second number is less than 10).\n",
    "\n",
    "Example Input:\n",
    "\n",
    "Enter the first number: 10\n",
    "\n",
    "Enter the second number: 3\n",
    "\n",
    "Example Output:\n",
    "\n",
    "Addition: 13\n",
    "\n",
    "Subtraction: 7\n",
    "\n",
    "Multiplication: 30\n",
    "\n",
    "Division: 3.3333333333333335\n",
    "\n",
    "Modulus: 1\n",
    "\n",
    "Flow Division: 3\n",
    "\n",
    "First number is greater than second"
   ]
  },
  {
   "cell_type": "code",
   "execution_count": 2,
   "metadata": {},
   "outputs": [
    {
     "name": "stdout",
     "output_type": "stream",
     "text": [
      "Addition: 13\n",
      "Subtraction: 7\n",
      "Multiplication: 30\n",
      "Division: 3.3333333333333335\n",
      "Floor Division: 3\n",
      "Modulus: 1\n",
      "Exponentiation: 1000\n"
     ]
    }
   ],
   "source": [
    "# Arithmetic Operators\n",
    "x = 10\n",
    "y = 3\n",
    "\n",
    "# Addition\n",
    "print(\"Addition:\", x + y)  # Add two numbers\n",
    "# Subtraction\n",
    "print(\"Subtraction:\", x - y)  # Subtract two numbers\n",
    "# Multiplication\n",
    "print(\"Multiplication:\", x * y)  # Multiply two numbers\n",
    "# Division\n",
    "print(\"Division:\", x / y)  # Quotient value\n",
    "# Floor Division\n",
    "print(\"Floor Division:\", x // y)  # Floor value without a decimal point\n",
    "# Modulus\n",
    "print(\"Modulus:\", x % y)  # Remainder value\n",
    "# Exponentiation\n",
    "print(\"Exponentiation:\", x ** y)  # Power value\n"
   ]
  },
  {
   "cell_type": "markdown",
   "metadata": {},
   "source": [
    "# Question 3: Loops\n",
    "\n",
    "# Problem: Write a Python program that:\n",
    "\n",
    "1. Accepts a list of integers from the user.\n",
    "2. Loops through the list and prints out each number.\n",
    "3. If a number is greater than 10, skip it using the continue statement.\n",
    "4. Stop the loop if the number is 20 using the break statement.\n",
    "5. After the loop ends, print a message that the loop ended naturally.\n",
    "\n",
    "\n",
    "Example Input:\n",
    "\n",
    "Enter a list of numbers separated by spaces: 5 10 12 15 20 8\n",
    "\n",
    "Example Output:\n",
    "5\n",
    "\n",
    "10\n",
    "\n",
    "Skipping 12\n",
    "\n",
    "15\n",
    "\n",
    "Breaking at 20\n",
    "\n",
    "Loop ended naturall"
   ]
  },
  {
   "cell_type": "code",
   "execution_count": 3,
   "metadata": {},
   "outputs": [
    {
     "name": "stdout",
     "output_type": "stream",
     "text": [
      "Skipping 5\n",
      "10\n",
      "Skipping 12\n",
      "Skipping 15\n",
      "20\n",
      "Breaking at 20\n"
     ]
    }
   ],
   "source": [
    "# List operations with loops\n",
    "numbers = [5, 10, 12, 15, 20, 8]\n",
    "\n",
    "# Loop through the numbers and apply conditions\n",
    "for num in numbers:\n",
    "    if num not in (10, 20):  # Skip numbers except 10 and 20\n",
    "        print(f\"Skipping {num}\")\n",
    "        continue  \n",
    "    print(num)\n",
    "    if num == 20:\n",
    "        print(\"Breaking at 20\")  # Exit loop when 20 is encountered\n",
    "        break\n",
    "else:\n",
    "    print(\"Loop ended naturally\")  # Executes if loop completes without break"
   ]
  }
 ],
 "metadata": {
  "kernelspec": {
   "display_name": "awfera",
   "language": "python",
   "name": "python3"
  },
  "language_info": {
   "codemirror_mode": {
    "name": "ipython",
    "version": 3
   },
   "file_extension": ".py",
   "mimetype": "text/x-python",
   "name": "python",
   "nbconvert_exporter": "python",
   "pygments_lexer": "ipython3",
   "version": "3.10.16"
  }
 },
 "nbformat": 4,
 "nbformat_minor": 2
}
